{
  "nbformat": 4,
  "nbformat_minor": 0,
  "metadata": {
    "colab": {
      "provenance": []
    },
    "kernelspec": {
      "name": "python3",
      "display_name": "Python 3"
    },
    "language_info": {
      "name": "python"
    }
  },
  "cells": [
    {
      "cell_type": "markdown",
      "source": [
        "# 🕸️ Practica de Web Scraping 🧑‍💻\n",
        "\n",
        "## 🎯 **Objetivos**\n",
        "Al completar esta pracaritica, serás capaz de:  \n",
        "✅ Navegar y manipular estructuras HTML utilizando Beautiful Soup.  \n",
        "✅ Comprender y trabajar con etiquetas, atributos y elementos navegables en HTML.  \n",
        "✅ Descargar y extraer contenido de páginas web de manera eficiente.\n",
        "\n"
      ],
      "metadata": {
        "id": "UT4ZN1n-wf6_"
      }
    },
    {
      "cell_type": "markdown",
      "source": [
        "---\n",
        "\n",
        "## 🗂️ **Tabla de contenidos**\n",
        "1. 🌼 **Objeto Beautiful Soup**  \n",
        "2. 🏷️ **Etiquetas (Tags)**  \n",
        "3. 👪 **Hijos, Padres y Hermanos (Children, Parents, and Siblings)**  \n",
        "4. 🏷️ **Atributos HTML**  \n",
        "5. ✏️ **Cadenas Navegables (Navigable Strings)**  \n",
        "6. 🔍 **Filtros**  \n",
        "    - 🧹 **`find_all`**  \n",
        "    - 🔎 **`find`**  \n",
        "7. 🌐 **Descarga y extracción de contenidos web**\n",
        "\n"
      ],
      "metadata": {
        "id": "h2TrAS-rJgro"
      }
    },
    {
      "cell_type": "markdown",
      "source": [
        "---\n",
        "\n",
        "### 🌼 **Objeto Beautiful Soup**\n",
        "¡Prepárate para conocer a tu nuevo mejor amigo! 🥳 Beautiful Soup te permitirá explorar el código HTML de una página web como si estuvieras paseando por un bosque lleno de etiquetas y atributos. 🌳🏷️\n",
        "\n",
        "### 🏷️ **Etiquetas (Tags)**\n",
        "Las etiquetas son el núcleo del HTML. Aprende a identificarlas y extraer lo que necesitas con facilidad. Piensa en ellas como cajas mágicas donde el contenido vive. 🎁✨\n",
        "\n",
        "### 👪 **Hijos, Padres y Hermanos**\n",
        "Descubre cómo moverte entre generaciones de elementos HTML:\n",
        "- 👶 **Hijos:** Los elementos dentro de una etiqueta.  \n",
        "- 🧑‍🦳 **Padres:** La etiqueta que envuelve a otras.  \n",
        "- 👫 **Hermanos:** Etiquetas al mismo nivel jerárquico.  \n",
        "\n",
        "¡Es como un árbol genealógico del HTML! 🌳👨‍👩‍👧‍👦\n",
        "\n",
        "### 🏷️ **Atributos HTML**\n",
        "Los atributos son los detalles que enriquecen cada etiqueta. Aprende a extraer su valor para obtener información clave, como enlaces o estilos. 🎨🖇️\n",
        "\n",
        "### ✏️ **Cadenas Navegables (Navigable Strings)**\n",
        "Las cadenas navegables son los textos dentro de las etiquetas HTML. ¡Aprende a extraerlos para que tu scraping sea efectivo! 📝🌟\n",
        "\n",
        "### 🔍 **Filtros: `find_all` y `find`**\n",
        "- 🧹 **`find_all`:** Encuentra todos los elementos que coincidan con un criterio.  \n",
        "- 🔎 **`find`:** Encuentra el primer elemento que cumpla tu búsqueda.  \n",
        "\n",
        "Con estas herramientas, serás como un detective digital. 🕵️‍♂️💻\n",
        "\n",
        "### 🌐 **Descarga y Extracción de Contenidos Web**\n",
        "Aprende a **descargar páginas web** y extraer su contenido. Este es el primer paso para convertir datos desordenados en información útil. 📥📊\n",
        "\n",
        "---\n",
        "\n",
        "\n"
      ],
      "metadata": {
        "id": "69-Cm1-AJj2r"
      }
    },
    {
      "cell_type": "markdown",
      "source": [
        "¡Ahora estás listo para sumergirte en el mundo del Web Scraping y descubrir todo lo que las páginas web tienen para ofrecerte! 🌐✨"
      ],
      "metadata": {
        "id": "Ih_JSmbUJzO8"
      }
    },
    {
      "cell_type": "markdown",
      "source": [
        "## 🔧 Preparativos para la practica de Web Scraping 🚀\n",
        "\n",
        "### 🛠️ **Herramientas y bibliotecas**\n",
        "En esta practica, utilizaremos **Python** y varias bibliotecas específicas. 🐍✨ Algunas de estas bibliotecas ya podrían estar instaladas en tu entorno de trabajo o en SN Labs. Otras, tendrás que instalarlas tú mismo antes de comenzar. ¡No te preocupes, es pan comido! 🍞👌  \n",
        "\n",
        "### 🧩 **Instalando las Bibliotecas Necesarias**\n",
        "Ejecuta las siguientes celdas para instalar las bibliotecas necesarias:  \n",
        "\n",
        "```python\n",
        "!mamba install bs4==4.10.0 -y\n",
        "!pip install lxml==4.6.4\n",
        "!mamba install html5lib==1.1 -y\n",
        "# !pip install requests==2.26.0\n"
      ],
      "metadata": {
        "id": "nJX8yuumJ1JQ"
      }
    },
    {
      "cell_type": "code",
      "execution_count": null,
      "metadata": {
        "colab": {
          "base_uri": "https://localhost:8080/"
        },
        "id": "XBNSq4O6wej-",
        "outputId": "8c114414-4418-44af-9385-4ea0e9147ca3"
      },
      "outputs": [
        {
          "output_type": "stream",
          "name": "stdout",
          "text": [
            "/bin/bash: line 1: mamba: command not found\n",
            "Requirement already satisfied: lxml==4.6.4 in /usr/local/lib/python3.10/dist-packages (4.6.4)\n",
            "/bin/bash: line 1: mamba: command not found\n"
          ]
        }
      ],
      "source": [
        "!mamba install bs4==4.10.0 -y\n",
        "!pip install lxml==4.6.4\n",
        "!mamba install html5lib==1.1 -y\n",
        "#!pip install requests==2.26.0"
      ]
    },
    {
      "cell_type": "markdown",
      "source": [
        "📦 **¿Qué estamos instalando?**\n",
        "Aquí hay un breve resumen de lo que acabas de preparar:\n",
        "\n",
        "**bs4 (Beautiful Soup)**: Nuestra herramienta principal para manipular y explorar HTML. 🌼🏷️\n",
        "\n",
        "**lxml:** Un motor súper rápido para procesar XML y HTML. ⚡📄\n",
        "\n",
        "**html5lib:** Para garantizar que nuestro análisis sea compatible con HTML5. 🌐"
      ],
      "metadata": {
        "id": "QOgbzERYKUK-"
      }
    },
    {
      "cell_type": "markdown",
      "source": [
        "🐍 **Importando módulos y funciones**\n",
        "\n",
        "Ahora, importa los módulos y funciones que necesitas para la practica. ¡Estás a punto de desbloquear todo el poder del Web Scraping en Python! 🎉💻"
      ],
      "metadata": {
        "id": "U4oma0VIKn4i"
      }
    },
    {
      "cell_type": "code",
      "source": [
        "# Aquí es donde empiezas a trabajar con las herramientas instaladas:\n",
        "import bs4\n",
        "from bs4 import BeautifulSoup\n",
        "import requests"
      ],
      "metadata": {
        "colab": {
          "base_uri": "https://localhost:8080/"
        },
        "id": "dpsQdeMMKuVB",
        "outputId": "4bf99888-21c2-4abb-b72c-408f1f88a4cb"
      },
      "execution_count": null,
      "outputs": [
        {
          "output_type": "stream",
          "name": "stderr",
          "text": [
            "/usr/local/lib/python3.10/dist-packages/requests/__init__.py:102: RequestsDependencyWarning: urllib3 (1.26.20) or chardet (5.2.0)/charset_normalizer (2.0.12) doesn't match a supported version!\n",
            "  warnings.warn(\"urllib3 ({}) or chardet ({})/charset_normalizer ({}) doesn't match a supported \"\n"
          ]
        }
      ]
    },
    {
      "cell_type": "markdown",
      "source": [
        "✨ ¡Todo listo! Ha preparado tu entorno para comenzar la aventura del Web Scraping. ¡Es hora de empezar a explorar el vasto océano de datos en la web! 🌊🌐\n",
        "\n",
        "\n",
        "\n",
        "\n",
        "\n",
        "\n"
      ],
      "metadata": {
        "id": "Eh_Zg5BiKzPD"
      }
    },
    {
      "cell_type": "markdown",
      "source": [
        "## 🌼 **Objetos de Beautiful Soup** 🥣\n",
        "\n",
        "### 📖 **¿Qué es Beautiful Soup?**\n",
        "**Beautiful Soup** es una biblioteca de Python que nos permite extraer datos de archivos HTML y XML. En esta practica, nos centraremos en trabajar con archivos **HTML**. 📝🌐  \n",
        "\n",
        "***¿Cómo funciona? ***\n",
        "Esta herramienta representa el HTML como un conjunto de **objetos**. Luego, puedes utilizar diferentes métodos para analizar y manipular ese HTML. 🎯✨  \n",
        "- 🧭 **Navega por el HTML como si fuera un árbol.**  \n",
        "- 🎯 **Filtra y encuentra exactamente lo que buscas.**\n",
        "\n",
        "---\n",
        "\n",
        "### 🌳 **Un Árbol HTML en Acción**\n",
        "Imagínate que el HTML es como un árbol 🌲, donde cada etiqueta es una rama. Con Beautiful Soup, puedes:  \n",
        "- Explorar ramas específicas (etiquetas). 🌿  \n",
        "- Encontrar hojas particulares (contenido). 🍃  \n",
        "- Cortar solo lo que necesitas. ✂️\n",
        "\n",
        "### 💻 **Ejemplo: HTML Básico**\n",
        "Consideremos el siguiente fragmento de HTML:\n",
        "\n"
      ],
      "metadata": {
        "id": "61AhyJsSLFFE"
      }
    },
    {
      "cell_type": "code",
      "source": [
        "%%html\n",
        "<!DOCTYPE html>\n",
        "<html>\n",
        "  <head>\n",
        "    <title>Mi Página Web</title>\n",
        "  </head>\n",
        "  <body>\n",
        "    <h1>¡Bienvenido a mi página!</h1>\n",
        "    <p>Esto es un párrafo.</p>\n",
        "    <a href=\"https://example.com\">Haz clic aquí</a>\n",
        "  </body>\n",
        "</html>"
      ],
      "metadata": {
        "colab": {
          "base_uri": "https://localhost:8080/",
          "height": 117
        },
        "id": "-84kSqsbLViJ",
        "outputId": "42168a4b-c1a1-4a05-eb5d-b81d70c0e67c"
      },
      "execution_count": null,
      "outputs": [
        {
          "output_type": "display_data",
          "data": {
            "text/plain": [
              "<IPython.core.display.HTML object>"
            ],
            "text/html": [
              "<!DOCTYPE html>\n",
              "<html>\n",
              "  <head>\n",
              "    <title>Mi Página Web</title>\n",
              "  </head>\n",
              "  <body>\n",
              "    <h1>¡Bienvenido a mi página!</h1>\n",
              "    <p>Esto es un párrafo.</p>\n",
              "    <a href=\"https://example.com\">Haz clic aquí</a>\n",
              "  </body>\n",
              "</html>\n"
            ]
          },
          "metadata": {}
        }
      ]
    },
    {
      "cell_type": "markdown",
      "source": [
        "**🧩 ¿Qué puedes hacer con esto?**\n",
        "\n",
        "Con BeautifulSoup , puedes convertir este HTML en un objeto navegable. Desde ahí, puedes:\n",
        "\n",
        "📋 Extraer el texto del título.\n",
        "\n",
        "🔗 Encontrar todos los enlaces (etiquetas <a>).\n",
        "\n",
        "📝 Obtener el contenido del párrafo.\n",
        "\n",
        "¡Es como si tuvieras un mapa del tesoro en tus manos! 🗺️💎\n"
      ],
      "metadata": {
        "id": "SMhleQUbLuzp"
      }
    },
    {
      "cell_type": "markdown",
      "source": [
        "## 🧵 **Trabajando con Strings HTML y Objetos BeautifulSoup**\n",
        "\n",
        "### 📝 **Almacenando HTML como un String**\n",
        "Imagina que tienes un documento HTML con información sobre ciudades y lo guardas como una cadena de texto en Python. Por ejemplo:\n",
        "\n",
        "\n"
      ],
      "metadata": {
        "id": "jdO8Jg2yMcyq"
      }
    },
    {
      "cell_type": "code",
      "source": [
        "%%html\n",
        "\n",
        "<!DOCTYPE html>\n",
        "<html>\n",
        "  <head>\n",
        "    <title>Datos de Ciudades</title>\n",
        "  </head>\n",
        "  <body>\n",
        "    <h3><b id='largest'>Tokio</b></h3>\n",
        "    <p>Población: 37,400,068</p>\n",
        "    <h3>Delhi</h3>\n",
        "    <p>Población: 31,181,376</p>\n",
        "    <h3>Shanghái</h3>\n",
        "    <p>Población: 27,058,480</p>\n",
        "  </body>\n",
        "</html>"
      ],
      "metadata": {
        "colab": {
          "base_uri": "https://localhost:8080/",
          "height": 203
        },
        "id": "beAL4z00MoFD",
        "outputId": "a47a12b4-4d1a-4e8e-f2cf-80392f4381ef"
      },
      "execution_count": null,
      "outputs": [
        {
          "output_type": "display_data",
          "data": {
            "text/plain": [
              "<IPython.core.display.HTML object>"
            ],
            "text/html": [
              "\n",
              "<!DOCTYPE html>\n",
              "<html>\n",
              "  <head>\n",
              "    <title>Datos de Ciudades</title>\n",
              "  </head>\n",
              "  <body>\n",
              "    <h3><b id='largest'>Tokio</b></h3>\n",
              "    <p>Población: 37,400,068</p>\n",
              "    <h3>Delhi</h3>\n",
              "    <p>Población: 31,181,376</p>\n",
              "    <h3>Shanghái</h3>\n",
              "    <p>Población: 27,058,480</p>\n",
              "  </body>\n",
              "</html>\n"
            ]
          },
          "metadata": {}
        }
      ]
    },
    {
      "cell_type": "markdown",
      "source": [
        "En este caso, estamos almacenando información sobre tres ciudades con mayor población del mundo 🌏. Este HTML será nuestra base para explorar cómo funciona Beautiful Soup.\n",
        "\n",
        " ¡Prepárate para descubrir sus secretos! 🔍✨"
      ],
      "metadata": {
        "id": "cFkjYRGkM7MI"
      }
    },
    {
      "cell_type": "markdown",
      "source": [
        "🌐 **Analizando el HTML con Beautiful Soup**\n",
        "\n",
        "Para analizar el HTML, pasamos la cadena htmlal constructor de Beautiful Soup. Este crea un objeto BeautifulSoupque representa el documento como una estructura de datos anidada. 📚🌳"
      ],
      "metadata": {
        "id": "HFkoKaGQNCbl"
      }
    },
    {
      "cell_type": "code",
      "source": [
        "from bs4 import BeautifulSoup\n",
        "\n",
        "soup = BeautifulSoup(html, \"html.parser\")"
      ],
      "metadata": {
        "id": "k27TvuV-ORI5"
      },
      "execution_count": null,
      "outputs": []
    },
    {
      "cell_type": "markdown",
      "source": [
        "🛠️ **¿Qué pasa aquí?**\n",
        "\n",
        "El documento HTML se convierte a Unicode (similar a ASCII).\n",
        "Las entidades HTML se traducen a caracteres Unicode.\n",
        "\n",
        "BeautifulSoup transforma el HTML en un árbol complejo de objetos Python. 🌲🐍\n",
        "\n",
        "¡Es como si hubieras convertido el HTML en un mapa interactivo que puedes explorar! 🗺️🔍"
      ],
      "metadata": {
        "id": "nTYJMJwDOU8n"
      }
    },
    {
      "cell_type": "markdown",
      "source": [
        "🌟 **Objetos en BeautifulSoup**\n",
        "\n",
        "El objeto BeautifulSoupno está solo:\n",
        "\n",
        "**Tag**: Representa una etiqueta HTML específica, como <h3> o <p>.\n",
        "\n",
        "**NavigableString:** Representa el texto dentro de una etiqueta, como \"Tokio\".\n",
        "\n",
        "En esta practica, trabajaremos con estos tipos de objetos para manipular y extraer datos. 🧩✨\n",
        "\n"
      ],
      "metadata": {
        "id": "2DigHKRCOilv"
      }
    },
    {
      "cell_type": "markdown",
      "source": [
        "🎨 **Visualizando la estructura HTML**\n",
        "\n",
        "¿Quieres ver cómo luce el HTML como un árbol bien organizado? Usa el método *prettify()* de Beautiful Soup:"
      ],
      "metadata": {
        "id": "D_RbGa8DOws_"
      }
    },
    {
      "cell_type": "code",
      "source": [
        "print(soup.prettify())"
      ],
      "metadata": {
        "colab": {
          "base_uri": "https://localhost:8080/"
        },
        "id": "JhHOfHzXO_e4",
        "outputId": "50757738-ebd0-4b80-87f8-08818844c2f7"
      },
      "execution_count": null,
      "outputs": [
        {
          "output_type": "stream",
          "name": "stdout",
          "text": [
            "<!DOCTYPE html>\n",
            "<html>\n",
            " <head>\n",
            "  <title>\n",
            "   Datos de Ciudades\n",
            "  </title>\n",
            " </head>\n",
            " <body>\n",
            "  <h3>\n",
            "   <b id=\"largest\">\n",
            "    Tokio\n",
            "   </b>\n",
            "  </h3>\n",
            "  <p>\n",
            "   Población: 37,400,068\n",
            "  </p>\n",
            "  <h3>\n",
            "   Delhi\n",
            "  </h3>\n",
            "  <p>\n",
            "   Población: 31,181,376\n",
            "  </p>\n",
            "  <h3>\n",
            "   Shanghái\n",
            "  </h3>\n",
            "  <p>\n",
            "   Población: 27,058,480\n",
            "  </p>\n",
            " </body>\n",
            "</html>\n",
            "\n"
          ]
        }
      ]
    },
    {
      "cell_type": "markdown",
      "source": [
        "✨ **¿Qué hace *prettify()* ?**\n",
        "\n",
        "Organiza el HTML de manera jerárquica para que sea más fácil de leer. 📋🌟"
      ],
      "metadata": {
        "id": "-OIOHheQPD9E"
      }
    },
    {
      "cell_type": "markdown",
      "source": [
        "## 🌟 **Etiquetas (Tags)**\n",
        "\n",
        "### 🔍 **Explorando las Etiquetas en el HTML**\n",
        "Imagina que queremos obtener el título de la página y el nombre de la ciudad más poblada. Para esto, usamos los objetos `Tag`. Un objeto `Tag` corresponde a una etiqueta HTML en el documento original, por ejemplo, la etiqueta `<title>`. 🎯🌐\n",
        "\n",
        "### 💻 **Ejemplo: Obteniendo el Título de la Página**\n",
        "Podemos acceder a la etiqueta `<title>` de la siguiente manera:\n",
        "\n",
        "\n"
      ],
      "metadata": {
        "id": "Q-4wCSA4Qt0v"
      }
    },
    {
      "cell_type": "code",
      "source": [
        "tag_object = soup.title\n",
        "print(\"Objeto Tag:\", tag_object)"
      ],
      "metadata": {
        "colab": {
          "base_uri": "https://localhost:8080/"
        },
        "id": "WGLE6QjwQ3zG",
        "outputId": "d40fd624-d1f9-410f-f066-b82f1226e28b"
      },
      "execution_count": null,
      "outputs": [
        {
          "output_type": "stream",
          "name": "stdout",
          "text": [
            "Objeto Tag: <title>Datos de Ciudades</title>\n"
          ]
        }
      ]
    },
    {
      "cell_type": "markdown",
      "source": [
        "🧐 ***¿Qué tipo de objeto es?***\n",
        "\n",
        "Podemos verificar que el objeto pertenece al tipo ***bs4.element.Tag*** de la siguiente manera:"
      ],
      "metadata": {
        "id": "tO1jZlr3Q7zj"
      }
    },
    {
      "cell_type": "code",
      "source": [
        "print(\"Tipo del objeto Tag:\", type(tag_object))"
      ],
      "metadata": {
        "colab": {
          "base_uri": "https://localhost:8080/"
        },
        "id": "OHVJI1UlRMlK",
        "outputId": "8662ce46-5896-4f51-d6a7-b8db52d700eb"
      },
      "execution_count": null,
      "outputs": [
        {
          "output_type": "stream",
          "name": "stdout",
          "text": [
            "Tipo del objeto Tag: <class 'bs4.element.Tag'>\n"
          ]
        }
      ]
    },
    {
      "cell_type": "markdown",
      "source": [
        "🏆 **Obteniendo la Ciudad Más Poblada**\n",
        "\n",
        "Cuando hay más de una etiqueta con el mismo nombre (por ejemplo, varias <***h3***>), Beautiful Soup selecciona automáticamente la primera coincidencia . En este caso, corresponde a la ciudad más poblada. 🌆✨"
      ],
      "metadata": {
        "id": "Hb-5mF_SRTBf"
      }
    },
    {
      "cell_type": "code",
      "source": [
        "tag_object = soup.h3\n",
        "print(tag_object)"
      ],
      "metadata": {
        "colab": {
          "base_uri": "https://localhost:8080/"
        },
        "id": "t6Af-QlESJEx",
        "outputId": "a04f9057-9355-4d10-b5c8-df8598163b9c"
      },
      "execution_count": null,
      "outputs": [
        {
          "output_type": "stream",
          "name": "stdout",
          "text": [
            "<h3><b id=\"largest\">Tokio</b></h3>\n"
          ]
        }
      ]
    },
    {
      "cell_type": "markdown",
      "source": [
        "🌳 **Navegando en el Árbol HTML**\n",
        "\n",
        "En este ejemplo, el nombre de la ciudad está dentro de una etiqueta <***b***>. Para obtenerlo, podemos navegar por el árbol HTML utilizando el atributo child. 📜🌟"
      ],
      "metadata": {
        "id": "I8BVmpyqSN8Q"
      }
    },
    {
      "cell_type": "code",
      "source": [
        "city_name = tag_object.b\n",
        "print(\"Nombre de la ciudad:\", city_name.string)"
      ],
      "metadata": {
        "colab": {
          "base_uri": "https://localhost:8080/"
        },
        "id": "BmUP8bfuSW1I",
        "outputId": "07d0de49-1553-4bb3-b9a9-0cfc15176078"
      },
      "execution_count": null,
      "outputs": [
        {
          "output_type": "stream",
          "name": "stdout",
          "text": [
            "Nombre de la ciudad: Tokio\n"
          ]
        }
      ]
    },
    {
      "cell_type": "markdown",
      "source": [
        "## 🌳 **Children, Parents, and Siblings**  \n",
        "🧩 **Explorando el Árbol HTML**  \n",
        "Como mencionamos antes, un objeto `Tag` es como un árbol que conecta diferentes elementos HTML. Con **Beautiful Soup**, puedes navegar entre las ramas, subiendo y bajando, y también explorar los \"hermanos\" de una etiqueta 🌲🔍  \n",
        "\n",
        "---\n",
        "\n",
        "### 🔽 **Accediendo a los Hijos (Children)**  \n",
        "Si quieres navegar hacia abajo en el árbol, puedes acceder al hijo de un objeto `Tag`. En este caso, tomemos el ejemplo de la etiqueta `<h3>` que contiene la etiqueta `<b>` con el nombre de la ciudad.  \n",
        "\n",
        "```python\n",
        "tag_child = tag_object.b\n",
        "print(tag_child)\n"
      ],
      "metadata": {
        "id": "k0a4oaOHSvdi"
      }
    },
    {
      "cell_type": "code",
      "source": [
        "tag_child = tag_object.b\n",
        "print(tag_child)"
      ],
      "metadata": {
        "colab": {
          "base_uri": "https://localhost:8080/"
        },
        "id": "ZMOK8MUJTfnm",
        "outputId": "d38b8235-c255-43bd-ca95-ec95b6beae5d"
      },
      "execution_count": null,
      "outputs": [
        {
          "output_type": "stream",
          "name": "stdout",
          "text": [
            "<b id=\"largest\">Tokio</b>\n"
          ]
        }
      ]
    },
    {
      "cell_type": "markdown",
      "source": [
        "🔼 **Accediendo al Padre (Padre)**\n",
        "\n",
        "Cada etiqueta también tiene un \"***padre***\", es decir, la etiqueta que la contiene. Utilice el atributo .parent para subir un nivel en el árbol."
      ],
      "metadata": {
        "id": "PZZCwuFpTjdy"
      }
    },
    {
      "cell_type": "code",
      "source": [
        "parent_tag = tag_child.parent\n",
        "print(parent_tag)"
      ],
      "metadata": {
        "colab": {
          "base_uri": "https://localhost:8080/"
        },
        "id": "5TY2u3kkTqmu",
        "outputId": "bb950662-ae89-43e6-c982-408ceb6993c1"
      },
      "execution_count": null,
      "outputs": [
        {
          "output_type": "stream",
          "name": "stdout",
          "text": [
            "<h3><b id=\"largest\">Tokio</b></h3>\n"
          ]
        }
      ]
    },
    {
      "cell_type": "code",
      "source": [
        "parent_tag == tag_object  # Esto será True"
      ],
      "metadata": {
        "colab": {
          "base_uri": "https://localhost:8080/"
        },
        "id": "yZca--2CTuyO",
        "outputId": "ab1bf443-23c1-4cb9-8e4e-e622517e7a34"
      },
      "execution_count": null,
      "outputs": [
        {
          "output_type": "execute_result",
          "data": {
            "text/plain": [
              "True"
            ]
          },
          "metadata": {},
          "execution_count": 16
        }
      ]
    },
    {
      "cell_type": "markdown",
      "source": [
        "🤝 ***Explorando los Hermanos (Hermanos)***\n",
        "\n",
        "Además de subir y bajar en el árbol, también puedes moverte hacia los elementos \"***hermanos***\". Los hermanos son etiquetas que comparten el mismo padre.\n",
        "\n",
        "🚶‍♂️ Primer Hermano (next_sibling)\n",
        "\n",
        "El siguiente hermano del <***h3***> es el párrafo (<***p***>) que contiene la población de Tokio."
      ],
      "metadata": {
        "id": "CCrMM90zTzJ0"
      }
    },
    {
      "cell_type": "code",
      "source": [
        "sibling_1 = tag_object.find_next_sibling()\n",
        "print(sibling_1)"
      ],
      "metadata": {
        "colab": {
          "base_uri": "https://localhost:8080/"
        },
        "id": "rzBmeer8UBmN",
        "outputId": "dc6511f6-5a72-4b8a-96ca-55327e9e0825"
      },
      "execution_count": null,
      "outputs": [
        {
          "output_type": "stream",
          "name": "stdout",
          "text": [
            "<p>Población: 37,400,068</p>\n"
          ]
        }
      ]
    },
    {
      "cell_type": "markdown",
      "source": [
        "🚶‍♂️ **Segundo Hermano (*Siguiente encabezado*)**\n",
        "El hermano siguiente después del párrafo es el siguiente encabezado <*h3*>, que corresponde a otra ciudad.\n"
      ],
      "metadata": {
        "id": "pm9OQgX7VzCj"
      }
    },
    {
      "cell_type": "code",
      "source": [
        "sibling_2 = sibling_1.find_next_sibling()\n",
        "print(sibling_2)"
      ],
      "metadata": {
        "colab": {
          "base_uri": "https://localhost:8080/"
        },
        "id": "ncqEjFHSWESI",
        "outputId": "71d24d48-689b-4e73-eba3-73ce56e18b25"
      },
      "execution_count": null,
      "outputs": [
        {
          "output_type": "stream",
          "name": "stdout",
          "text": [
            "<h3>Delhi</h3>\n"
          ]
        }
      ]
    },
    {
      "cell_type": "markdown",
      "source": [
        "✨ **Resumen de navegación**\n",
        "\n",
        "***Hijos (child):*** Usa .bo .contentspara acceder al contenido interno de una etiqueta.\n",
        "\n",
        "***Padres (parent):*** Usa .parentpara subir un nivel en el árbol.\n",
        "\n",
        "***Hermanos ( sibling):*** Usa ***.next_sibling*** para avanzar y ***.previous_sibling*** para retroceder entre elementos del mismo nivel.\n",
        "\n",
        "Usa ***.find_next_sibling()*** para evitar nudos vacíos al explorar hermanos.\n",
        "\n",
        "Alternativamente, puedes combinar ***.next_sibling*** con un bucle que filtre los nodos relevantes."
      ],
      "metadata": {
        "id": "Tg7c7gfMWVYx"
      }
    },
    {
      "cell_type": "markdown",
      "source": [
        "## 🎯 **Ejercicio: Navegando con `next_sibling`**  \n",
        "\n",
        "🌍 Usando el objeto `sibling_2` y la propiedad `next_sibling`, navega por el árbol HTML para encontrar la población de **Delhi**.  \n",
        "\n",
        "---\n",
        "\n",
        "🧩 **Pista**  \n",
        "El encabezado `<h3>` con el texto **Delhi** es seguido por un párrafo `<p>` que contiene su población. 🌟  \n",
        "\n",
        "---\n",
        "\n",
        "💡 **Ejemplo de Navegación**  \n",
        "Aquí tienes cómo puedes hacerlo con los datos de ciudades y poblaciones:\n",
        "\n",
        "\n"
      ],
      "metadata": {
        "id": "bE6vVpAWXPwr"
      }
    },
    {
      "cell_type": "code",
      "source": [
        "# Primero, asegurémonos de tener el objeto sibling_2 (que corresponde al encabezado de Delhi)\n",
        "sibling_2 = sibling_1.find_next_sibling()"
      ],
      "metadata": {
        "id": "Z6nnaYs-YIv4"
      },
      "execution_count": null,
      "outputs": []
    },
    {
      "cell_type": "markdown",
      "source": [
        "¡Intenta resolverlo por ti mismo antes de ver la solución! 💪✨\n"
      ],
      "metadata": {
        "id": "XB9_7qoJbnBE"
      }
    },
    {
      "cell_type": "code",
      "source": [
        "# Escribe aqui tu codigo\n"
      ],
      "metadata": {
        "id": "gv0FThslbIrr"
      },
      "execution_count": null,
      "outputs": []
    },
    {
      "cell_type": "markdown",
      "source": [
        "<details> <summary>🌟 Haz clic aquí para revelar la solución</summary>\n",
        "\n",
        "```python\n",
        "# Teniendo el objeto sibling_2 (el encabezado de Delhi)\n",
        "population_delhi = sibling_2.find_next_sibling()  # Encuentra el siguiente hermano\n",
        "print(population_delhi)\n",
        "```\n",
        "\n",
        "\n",
        "</details>\n"
      ],
      "metadata": {
        "id": "LYSBty7QYLvm"
      }
    },
    {
      "cell_type": "markdown",
      "source": [
        "## 🏷️ **Atributos HTML**  \n",
        "\n",
        "Si una etiqueta tiene atributos, como el caso del `<b id=\"largest\">` en el encabezado de **Tokio**, podemos acceder a los atributos de manera sencilla. En este caso, el atributo `id` tiene el valor `largest`. 🤓✨  \n",
        "\n",
        "### 🔑 **Accediendo a los Atributos**  \n",
        "Puedes acceder a los atributos de una etiqueta tratando la etiqueta como un diccionario:\n",
        "\n",
        "\n",
        "\n"
      ],
      "metadata": {
        "id": "HgkxO4bgcVxj"
      }
    },
    {
      "cell_type": "code",
      "source": [
        "tag_child['id']  # Accede al valor del atributo id"
      ],
      "metadata": {
        "colab": {
          "base_uri": "https://localhost:8080/",
          "height": 35
        },
        "id": "jmbSQf-7c4Gg",
        "outputId": "7874d6d2-0f1f-4b47-dae2-07cef77656c8"
      },
      "execution_count": null,
      "outputs": [
        {
          "output_type": "execute_result",
          "data": {
            "text/plain": [
              "'largest'"
            ],
            "application/vnd.google.colaboratory.intrinsic+json": {
              "type": "string"
            }
          },
          "metadata": {},
          "execution_count": 27
        }
      ]
    },
    {
      "cell_type": "markdown",
      "source": [
        "Esto devolverá el valor largest del atributo iden la etiqueta <***b***> de Tokio.\n",
        "\n"
      ],
      "metadata": {
        "id": "Tm1NLK0LdAgq"
      }
    },
    {
      "cell_type": "markdown",
      "source": [
        "📚 **Accediendo a todos los Atributos**\n",
        "\n",
        "Si deseas ver todos los atributos de una etiqueta, puedes usar ***.attrs*** para obtener un diccionario con todos los atributos de la etiqueta."
      ],
      "metadata": {
        "id": "wYTV3QUzdEeR"
      }
    },
    {
      "cell_type": "code",
      "source": [
        "tag_child.attrs  # Muestra todos los atributos de la etiqueta"
      ],
      "metadata": {
        "colab": {
          "base_uri": "https://localhost:8080/"
        },
        "id": "QeBgcaR2dMiQ",
        "outputId": "18db4b88-61ed-49c8-f484-2e0697838377"
      },
      "execution_count": null,
      "outputs": [
        {
          "output_type": "execute_result",
          "data": {
            "text/plain": [
              "{'id': 'largest'}"
            ]
          },
          "metadata": {},
          "execution_count": 28
        }
      ]
    },
    {
      "cell_type": "markdown",
      "source": [
        "🛠️ **Usando get() para Acceder a Atributos**\n",
        "\n",
        "También puedes obtener el valor de un atributo usando el método ***get()***, lo que es útil si no estás seguro de si el atributo existe o no."
      ],
      "metadata": {
        "id": "pBnNk4wMdX6b"
      }
    },
    {
      "cell_type": "code",
      "source": [
        "tag_child.get('id')  # Obtiene el valor del atributo id"
      ],
      "metadata": {
        "colab": {
          "base_uri": "https://localhost:8080/",
          "height": 35
        },
        "id": "tvnjbdnGdfjq",
        "outputId": "4aeff84e-16ae-4627-975b-0c73fb274196"
      },
      "execution_count": null,
      "outputs": [
        {
          "output_type": "execute_result",
          "data": {
            "text/plain": [
              "'largest'"
            ],
            "application/vnd.google.colaboratory.intrinsic+json": {
              "type": "string"
            }
          },
          "metadata": {},
          "execution_count": 29
        }
      ]
    },
    {
      "cell_type": "markdown",
      "source": [
        "Esto devolverá el valor del atributo id (en este caso, ***largest***), o **None** si el atributo no está presente."
      ],
      "metadata": {
        "id": "25rHGTfOdoU4"
      }
    },
    {
      "cell_type": "markdown",
      "source": [
        "## 🔠 **Navigable String**  \n",
        "\n",
        "En Beautiful Soup, un **string** corresponde a un fragmento de texto o contenido dentro de una etiqueta. Beautiful Soup usa la clase `NavigableString` para almacenar este texto. En nuestro ejemplo de HTML, podemos obtener el nombre de la primera ciudad, **Tokio**, extrayendo el texto de la etiqueta `<b>` usando el objeto `tag_child`. 🤓✨  \n",
        "\n",
        "### 🔑 **Accediendo al texto de la etiqueta**  \n",
        "Para obtener el texto dentro de una etiqueta, usamos la propiedad `.string`:\n",
        "\n",
        "\n"
      ],
      "metadata": {
        "id": "oeuEJGxud8d4"
      }
    },
    {
      "cell_type": "code",
      "source": [
        "tag_string = tag_child.string  # Extrae el texto de la etiqueta\n",
        "print(tag_string)  # Mostrará 'Tokio'"
      ],
      "metadata": {
        "colab": {
          "base_uri": "https://localhost:8080/"
        },
        "id": "I_zHhEcReHLm",
        "outputId": "39d746c1-2dbf-4bca-92d4-446552f0a089"
      },
      "execution_count": null,
      "outputs": [
        {
          "output_type": "stream",
          "name": "stdout",
          "text": [
            "Tokio\n"
          ]
        }
      ]
    },
    {
      "cell_type": "markdown",
      "source": [
        "Este código extraerá el nombre de la ciudad Tokio del atributo <***b***>."
      ],
      "metadata": {
        "id": "6oMPZX_zeLo9"
      }
    },
    {
      "cell_type": "markdown",
      "source": [
        "📚 **Verificando el tipo detag_string**\n",
        "\n",
        "Podemos verificar que tag_stringes de tipo NavigableString con el siguiente código:"
      ],
      "metadata": {
        "id": "wxeVt33LeWjR"
      }
    },
    {
      "cell_type": "code",
      "source": [
        "type(tag_string)  # Devolverá <class 'bs4.element.NavigableString'>"
      ],
      "metadata": {
        "colab": {
          "base_uri": "https://localhost:8080/"
        },
        "id": "pmHp8vIkecFs",
        "outputId": "19bc5910-0e15-4068-de69-0d2b8a774685"
      },
      "execution_count": null,
      "outputs": [
        {
          "output_type": "execute_result",
          "data": {
            "text/plain": [
              "bs4.element.NavigableString"
            ]
          },
          "metadata": {},
          "execution_count": 31
        }
      ]
    },
    {
      "cell_type": "markdown",
      "source": [
        "🧩 **¿Qué es un NavigableString?**\n",
        "\n",
        "Un ***NavigableString*** es muy similar a una cadena de texto en Python oa una cadena Unicode, pero tiene características adicionales de Beautiful Soup que nos permiten navegar por el árbol de etiquetas.\n",
        "\n",
        "Aunque es igual a un string en Python, puedes aprovechar las ventajas de BeautifulSoup para trabajar con el contenido extraído. Si deseas convertirlo a una cadena de texto de Python estándar, puedes hacerlo así:"
      ],
      "metadata": {
        "id": "7gbqmN1cehR-"
      }
    },
    {
      "cell_type": "code",
      "source": [
        "str(tag_string)  # Convierte el NavigableString a un string de Python"
      ],
      "metadata": {
        "colab": {
          "base_uri": "https://localhost:8080/",
          "height": 35
        },
        "id": "02IYfH41etCQ",
        "outputId": "9dfac4e5-7346-4d6c-b9f4-8210af678233"
      },
      "execution_count": null,
      "outputs": [
        {
          "output_type": "execute_result",
          "data": {
            "text/plain": [
              "'Tokio'"
            ],
            "application/vnd.google.colaboratory.intrinsic+json": {
              "type": "string"
            }
          },
          "metadata": {},
          "execution_count": 32
        }
      ]
    },
    {
      "cell_type": "markdown",
      "source": [
        "## 🔍 **Filtros en Beautiful Soup en Nuestro Ejemplo de Ciudades**  \n",
        "\n",
        "Los filtros permiten encontrar patrones específicos dentro del contenido HTML. El filtro más simple es una cadena de texto (string). En esta sección, vamos a usar un filtro para buscar una cadena en particular en el HTML de las ciudades.\n",
        "\n",
        "### 🏙️ **Ejemplo de datos de ciudades**  \n",
        "\n",
        "Imagina que tenemos la siguiente tabla que muestra el nombre de algunas ciudades y sus respectivas poblaciones:\n",
        "\n",
        "\n",
        "\n",
        "\n"
      ],
      "metadata": {
        "id": "9KPxR3v6e3Oy"
      }
    },
    {
      "cell_type": "code",
      "source": [
        "%%html\n",
        "<table>\n",
        "  <tr>\n",
        "    <td id='city'>City</td>\n",
        "    <td>Population</td>\n",
        "  </tr>\n",
        "  <tr>\n",
        "    <td>Tokio</td>\n",
        "    <td>37,400,068</td>\n",
        "  </tr>\n",
        "  <tr>\n",
        "    <td>Delhi</td>\n",
        "    <td>31,181,376</td>\n",
        "  </tr>\n",
        "  <tr>\n",
        "    <td>Shanghái</td>\n",
        "    <td>27,058,480</td>\n",
        "  </tr>\n",
        "</table>"
      ],
      "metadata": {
        "colab": {
          "base_uri": "https://localhost:8080/",
          "height": 104
        },
        "id": "cvJWh9NVe7Zz",
        "outputId": "b639f0bb-c288-4d0f-cec7-0baae775623b"
      },
      "execution_count": null,
      "outputs": [
        {
          "output_type": "display_data",
          "data": {
            "text/plain": [
              "<IPython.core.display.HTML object>"
            ],
            "text/html": [
              "<table>\n",
              "  <tr>\n",
              "    <td id='city'>City</td>\n",
              "    <td>Population</td>\n",
              "  </tr>\n",
              "  <tr>\n",
              "    <td>Tokio</td>\n",
              "    <td>37,400,068</td>\n",
              "  </tr>\n",
              "  <tr>\n",
              "    <td>Delhi</td>\n",
              "    <td>31,181,376</td>\n",
              "  </tr>\n",
              "  <tr>\n",
              "    <td>Shanghái</td>\n",
              "    <td>27,058,480</td>\n",
              "  </tr>\n",
              "</table>\n"
            ]
          },
          "metadata": {}
        }
      ]
    },
    {
      "cell_type": "markdown",
      "source": [
        "Podemos almacenar esta tabla como una cadena de texto en la variable table:"
      ],
      "metadata": {
        "id": "AGtUFDgLgkzq"
      }
    },
    {
      "cell_type": "code",
      "source": [
        "table = \"\"\"\n",
        "<table>\n",
        "  <tr>\n",
        "    <td id='city'>City</td>\n",
        "    <td>Population</td>\n",
        "  </tr>\n",
        "  <tr>\n",
        "    <td>Tokio</td>\n",
        "    <td>37,400,068</td>\n",
        "  </tr>\n",
        "  <tr>\n",
        "    <td>Delhi</td>\n",
        "    <td>31,181,376</td>\n",
        "  </tr>\n",
        "  <tr>\n",
        "    <td>Shanghái</td>\n",
        "    <td>27,058,480</td>\n",
        "  </tr>\n",
        "</table>\n",
        "\"\"\""
      ],
      "metadata": {
        "id": "4f6HJ5IEgo94"
      },
      "execution_count": null,
      "outputs": []
    },
    {
      "cell_type": "markdown",
      "source": [
        "🔑 **Aplicando un filtro de texto**\n",
        "\n",
        "Supongamos que queremos encontrar todas las filas de la tabla que contienen el nombre \"***Tokio***\". Para hacer esto, pasamos el filtro como una cadena a Beautiful Soup, y este buscará esa cadena exacta en el contenido HTML:"
      ],
      "metadata": {
        "id": "Z26oPKhFg4J6"
      }
    },
    {
      "cell_type": "code",
      "source": [
        "soup = BeautifulSoup(table, \"html.parser\")\n",
        "tokio_rows = soup.find_all(string=\"Tokio\")\n",
        "print(tokio_rows)"
      ],
      "metadata": {
        "colab": {
          "base_uri": "https://localhost:8080/"
        },
        "id": "07edmB9hhCIY",
        "outputId": "65ba0d69-01fa-4366-ef71-9048e02d8697"
      },
      "execution_count": null,
      "outputs": [
        {
          "output_type": "stream",
          "name": "stdout",
          "text": [
            "['Tokio']\n"
          ]
        }
      ]
    },
    {
      "cell_type": "markdown",
      "source": [
        "## 🔍 **find_all() en Beautiful Soup**\n",
        "\n",
        "El método `find_all()` recorre todos los descendientes de una etiqueta y obtiene aquellos que coinciden con los filtros especificados.\n",
        "\n",
        "### 📝 **Firma del método `find_all()`**  \n",
        "La firma del método `find_all()` es la siguiente:\n",
        "\n",
        "```python\n",
        "find_all(name, attrs, recursive, string, limit, **kwargs)\n"
      ],
      "metadata": {
        "id": "Wp6zrlWFhaJU"
      }
    },
    {
      "cell_type": "markdown",
      "source": [
        "**name**: Especifica el nombre de la etiqueta que deseas encontrar. Si no se proporciona, buscará todas las etiquetas.\n",
        "\n",
        "**attrs**: Filtra las etiquetas según los atributos. Por ejemplo, puedes buscar etiquetas que contengan un ido classespecífico.\n",
        "\n",
        "**recursivo**: Determina si la búsqueda debe ser recursiva. Por defecto, es True, lo que significa que buscará en todos los descendientes.\n",
        "\n",
        "**string**: Filtra las etiquetas que contienen un texto específico. Por ejemplo, puedes buscar todas las etiquetas que contengan el nombre de una ciudad específica.\n",
        "\n",
        "**limit**: Limita el número de resultados devueltos.\n",
        "\n",
        "**kwargs**: Puedes agregar otros filtros adicionales."
      ],
      "metadata": {
        "id": "tL3CvsEmhmW6"
      }
    },
    {
      "cell_type": "markdown",
      "source": [
        "🌐 **Ejemplo de Uso de find_all() con ciudades**\n",
        "\n",
        "Supongamos que tenemos el siguiente HTML con la información de varias ciudades y queremos encontrar todas las filas ( <**tr**>) de la tabla que contienen las poblaciones de las ciudades:"
      ],
      "metadata": {
        "id": "OEU7Tn0jhzmu"
      }
    },
    {
      "cell_type": "code",
      "source": [
        "from bs4 import BeautifulSoup\n",
        "\n",
        "# HTML con información de ciudades y poblaciones\n",
        "html = \"\"\"\n",
        "<table>\n",
        "  <tr>\n",
        "    <td id='city'>City</td>\n",
        "    <td>Population</td>\n",
        "  </tr>\n",
        "  <tr>\n",
        "    <td>Tokio</td>\n",
        "    <td>37,400,068</td>\n",
        "  </tr>\n",
        "  <tr>\n",
        "    <td>Delhi</td>\n",
        "    <td>31,181,376</td>\n",
        "  </tr>\n",
        "  <tr>\n",
        "    <td>Shanghái</td>\n",
        "    <td>27,058,480</td>\n",
        "  </tr>\n",
        "</table>\n",
        "\"\"\"\n",
        "\n",
        "# Usamos BeautifulSoup para parsear el HTML\n",
        "soup = BeautifulSoup(html, \"html.parser\")\n",
        "\n",
        "# Usamos find_all() para obtener todas las filas de la tabla\n",
        "rows = soup.find_all(\"tr\")\n",
        "for row in rows:\n",
        "    print(row.text)"
      ],
      "metadata": {
        "colab": {
          "base_uri": "https://localhost:8080/"
        },
        "id": "BojHtZuYhf2W",
        "outputId": "18bb48d6-f96e-4d77-f92b-8aaaf87ebe7d"
      },
      "execution_count": null,
      "outputs": [
        {
          "output_type": "stream",
          "name": "stdout",
          "text": [
            "\n",
            "City\n",
            "Population\n",
            "\n",
            "\n",
            "Tokio\n",
            "37,400,068\n",
            "\n",
            "\n",
            "Delhi\n",
            "31,181,376\n",
            "\n",
            "\n",
            "Shanghái\n",
            "27,058,480\n",
            "\n"
          ]
        }
      ]
    },
    {
      "cell_type": "markdown",
      "source": [
        "## 🏷️ **Uso de `name` con `find_all()` en Beautiful Soup**\n",
        "\n",
        "Cuando configuramos el parámetro `name` con el nombre de una etiqueta, el método `find_all()` extraerá todas las etiquetas que coincidan con ese nombre y sus elementos hijos.\n",
        "\n",
        "### 🔍 **Ejemplo: Encontrar todas las filas de una tabla**\n",
        "\n",
        "Supongamos que queremos encontrar todas las filas (`<tr>`) en una tabla que contiene información sobre ciudades y poblaciones. Aquí te muestro cómo hacerlo:\n",
        "\n"
      ],
      "metadata": {
        "id": "8RTMS7rDiMPA"
      }
    },
    {
      "cell_type": "code",
      "source": [
        "from bs4 import BeautifulSoup\n",
        "\n",
        "# HTML con información de ciudades y poblaciones\n",
        "html = \"\"\"\n",
        "<table>\n",
        "  <tr>\n",
        "    <td id='city'>City</td>\n",
        "    <td>Population</td>\n",
        "  </tr>\n",
        "  <tr>\n",
        "    <td>Tokio</td>\n",
        "    <td>37,400,068</td>\n",
        "  </tr>\n",
        "  <tr>\n",
        "    <td>Delhi</td>\n",
        "    <td>31,181,376</td>\n",
        "  </tr>\n",
        "  <tr>\n",
        "    <td>Shanghái</td>\n",
        "    <td>27,058,480</td>\n",
        "  </tr>\n",
        "</table>\n",
        "\"\"\""
      ],
      "metadata": {
        "id": "RmtDZXe8iX1a"
      },
      "execution_count": null,
      "outputs": []
    },
    {
      "cell_type": "code",
      "source": [
        "# Parseamos el HTML\n",
        "table_bs = BeautifulSoup(html, \"html.parser\")"
      ],
      "metadata": {
        "id": "ylNtEAnTifEl"
      },
      "execution_count": null,
      "outputs": []
    },
    {
      "cell_type": "code",
      "source": [
        "# Usamos find_all() con el nombre 'tr' para obtener todas las filas\n",
        "table_rows = table_bs.find_all('tr')\n",
        "print(table_rows)"
      ],
      "metadata": {
        "colab": {
          "base_uri": "https://localhost:8080/"
        },
        "id": "g7gZ1CD5imX8",
        "outputId": "88da928a-278d-4bfc-88da-07fe71022eba"
      },
      "execution_count": null,
      "outputs": [
        {
          "output_type": "stream",
          "name": "stdout",
          "text": [
            "[<tr>\n",
            "<td id=\"city\">City</td>\n",
            "<td>Population</td>\n",
            "</tr>, <tr>\n",
            "<td>Tokio</td>\n",
            "<td>37,400,068</td>\n",
            "</tr>, <tr>\n",
            "<td>Delhi</td>\n",
            "<td>31,181,376</td>\n",
            "</tr>, <tr>\n",
            "<td>Shanghái</td>\n",
            "<td>27,058,480</td>\n",
            "</tr>]\n"
          ]
        }
      ]
    },
    {
      "cell_type": "markdown",
      "source": [
        "📝 El resultado será un iterable (similar a una lista) con todas las filas (<**tr**>) de la tabla:"
      ],
      "metadata": {
        "id": "zpWh2q42irTY"
      }
    },
    {
      "cell_type": "markdown",
      "source": [
        "💡 **Acceder a la primera fila**\n",
        "\n",
        "Si queremos acceder a la primera fila, simplemente podemos usar el índice de la lista:"
      ],
      "metadata": {
        "id": "CY-n6oDKi3iw"
      }
    },
    {
      "cell_type": "code",
      "source": [
        "first_row = table_rows[0]\n",
        "print(first_row)"
      ],
      "metadata": {
        "colab": {
          "base_uri": "https://localhost:8080/"
        },
        "id": "lU-bhyQEi8QC",
        "outputId": "6827cb6f-8122-43c6-82be-3b16e17e3a7a"
      },
      "execution_count": null,
      "outputs": [
        {
          "output_type": "stream",
          "name": "stdout",
          "text": [
            "<tr>\n",
            "<td id=\"city\">City</td>\n",
            "<td>Population</td>\n",
            "</tr>\n"
          ]
        }
      ]
    },
    {
      "cell_type": "markdown",
      "source": [
        "El tipo de la primera fila será un Tag:\n",
        "\n"
      ],
      "metadata": {
        "id": "Ejzh-0yWjA-k"
      }
    },
    {
      "cell_type": "code",
      "source": [
        "print(type(first_row))  # <class 'bs4.element.Tag'>"
      ],
      "metadata": {
        "colab": {
          "base_uri": "https://localhost:8080/"
        },
        "id": "tTevUCCEjCmo",
        "outputId": "a9cc9b9f-ff37-48b6-ef29-b9b01de691dd"
      },
      "execution_count": null,
      "outputs": [
        {
          "output_type": "stream",
          "name": "stdout",
          "text": [
            "<class 'bs4.element.Tag'>\n"
          ]
        }
      ]
    },
    {
      "cell_type": "markdown",
      "source": [
        "🏷️ **Acceder a los hijos de una fila**\n",
        "\n",
        "Podemos acceder a los elementos hijos de la fila, como las celdas ( <**td**>), de la siguiente manera:"
      ],
      "metadata": {
        "id": "KuPQ9BvFjG7k"
      }
    },
    {
      "cell_type": "code",
      "source": [
        "first_cell = first_row.td\n",
        "print(first_cell)"
      ],
      "metadata": {
        "colab": {
          "base_uri": "https://localhost:8080/"
        },
        "id": "PB2M3jEljNKr",
        "outputId": "50999b1a-fd08-4995-c155-a294144cfca1"
      },
      "execution_count": null,
      "outputs": [
        {
          "output_type": "stream",
          "name": "stdout",
          "text": [
            "<td id=\"city\">City</td>\n"
          ]
        }
      ]
    },
    {
      "cell_type": "markdown",
      "source": [
        "🔄 **Iterar a través de las filas**\n",
        "\n",
        "Si iteramos a través de todas las filas, cada elemento corresponderá a una fila de la tabla:"
      ],
      "metadata": {
        "id": "b5A96825jQdp"
      }
    },
    {
      "cell_type": "code",
      "source": [
        "for i, row in enumerate(table_rows):\n",
        "    print(\"row\", i, \"is\", row)"
      ],
      "metadata": {
        "colab": {
          "base_uri": "https://localhost:8080/"
        },
        "id": "fTMpBH2rjVvq",
        "outputId": "0ac81459-8522-45b8-8186-d572227e2abd"
      },
      "execution_count": null,
      "outputs": [
        {
          "output_type": "stream",
          "name": "stdout",
          "text": [
            "row 0 is <tr>\n",
            "<td id=\"city\">City</td>\n",
            "<td>Population</td>\n",
            "</tr>\n",
            "row 1 is <tr>\n",
            "<td>Tokio</td>\n",
            "<td>37,400,068</td>\n",
            "</tr>\n",
            "row 2 is <tr>\n",
            "<td>Delhi</td>\n",
            "<td>31,181,376</td>\n",
            "</tr>\n",
            "row 3 is <tr>\n",
            "<td>Shanghái</td>\n",
            "<td>27,058,480</td>\n",
            "</tr>\n"
          ]
        }
      ]
    },
    {
      "cell_type": "markdown",
      "source": [
        "📑 **Acceder a las celdas de cada fila**\n",
        "\n",
        "Dado que cada rowes un objeto Tag , podemos aplicar find_all()a cada fila para extraer las celdas ( <**td**>) dentro de ella. Esto devolverá una lista, donde cada celda será un objeto **Tag**. Luego podemos iterar sobre las celdas y extraer su contenido:"
      ],
      "metadata": {
        "id": "jiguO3-EjaKo"
      }
    },
    {
      "cell_type": "code",
      "source": [
        "for i, row in enumerate(table_rows):\n",
        "    print(\"row\", i)\n",
        "    cells = row.find_all('td')\n",
        "    for j, cell in enumerate(cells):\n",
        "        print('column', j, \"cell\", cell)"
      ],
      "metadata": {
        "colab": {
          "base_uri": "https://localhost:8080/"
        },
        "id": "MSuAaXFijjNu",
        "outputId": "70af322b-3cf6-47f5-a2f5-25412591ffef"
      },
      "execution_count": null,
      "outputs": [
        {
          "output_type": "stream",
          "name": "stdout",
          "text": [
            "row 0\n",
            "column 0 cell <td id=\"city\">City</td>\n",
            "column 1 cell <td>Population</td>\n",
            "row 1\n",
            "column 0 cell <td>Tokio</td>\n",
            "column 1 cell <td>37,400,068</td>\n",
            "row 2\n",
            "column 0 cell <td>Delhi</td>\n",
            "column 1 cell <td>31,181,376</td>\n",
            "row 3\n",
            "column 0 cell <td>Shanghái</td>\n",
            "column 1 cell <td>27,058,480</td>\n"
          ]
        }
      ]
    },
    {
      "cell_type": "markdown",
      "source": [
        "🌍 **Filtrar por Atributos de URL con Beautiful Soup**\n",
        "En este ejemplo, tenemos un HTML con enlaces a páginas web de diferentes destinos turísticos, y vamos a filtrar aquellos enlaces que contienen la URL de un lugar específico."
      ],
      "metadata": {
        "id": "8MfZNYuhj_i7"
      }
    },
    {
      "cell_type": "code",
      "source": [
        "%%html\n",
        "<!DOCTYPE html>\n",
        "<html>\n",
        " <body>\n",
        "  <ul>\n",
        "   <li><a href=\"https://www.visitparis.com\">Paris</a></li>\n",
        "   <li><a href=\"https://www.visittokyo.com\">Tokyo</a></li>\n",
        "   <li><a href=\"https://www.visitlondon.com\">London</a></li>\n",
        "   <li><a href=\"https://www.visitrio.com\">Rio de Janeiro</a></li>\n",
        "  </ul>\n",
        " </body>\n",
        "</html>"
      ],
      "metadata": {
        "colab": {
          "base_uri": "https://localhost:8080/",
          "height": 98
        },
        "id": "L88GtSZSkJpT",
        "outputId": "132a2cbb-ffbe-4c3c-fc91-b5ef1086af30"
      },
      "execution_count": null,
      "outputs": [
        {
          "output_type": "display_data",
          "data": {
            "text/plain": [
              "<IPython.core.display.HTML object>"
            ],
            "text/html": [
              "<!DOCTYPE html>\n",
              "<html>\n",
              " <body>\n",
              "  <ul>\n",
              "   <li><a href=\"https://www.visitparis.com\">Paris</a></li>\n",
              "   <li><a href=\"https://www.visittokyo.com\">Tokyo</a></li>\n",
              "   <li><a href=\"https://www.visitlondon.com\">London</a></li>\n",
              "   <li><a href=\"https://www.visitrio.com\">Rio de Janeiro</a></li>\n",
              "  </ul>\n",
              " </body>\n",
              "</html>\n"
            ]
          },
          "metadata": {}
        }
      ]
    },
    {
      "cell_type": "markdown",
      "source": [
        "🐍 **Filtrar por URL**\n",
        "\n",
        "Primero, vamos a analizar este HTML con BeautifulSoup.\n",
        "Luego, utilizaremos **find_all()** para filtrar todos los enlaces ( <**a**>) que apuntan a la URL de \"Paris\" y \"Tokyo\"."
      ],
      "metadata": {
        "id": "-i7eKx_Rk3io"
      }
    },
    {
      "cell_type": "code",
      "source": [
        "from bs4 import BeautifulSoup\n",
        "\n",
        "# HTML de destinos turísticos\n",
        "html = \"\"\"\n",
        "<html>\n",
        " <body>\n",
        "  <ul>\n",
        "   <li><a href=\"https://www.visitparis.com\">Paris</a></li>\n",
        "   <li><a href=\"https://www.visittokyo.com\">Tokyo</a></li>\n",
        "   <li><a href=\"https://www.visitlondon.com\">London</a></li>\n",
        "   <li><a href=\"https://www.visitrio.com\">Rio de Janeiro</a></li>\n",
        "  </ul>\n",
        " </body>\n",
        "</html>\n",
        "\"\"\"\n",
        "\n",
        "# Parseamos el HTML\n",
        "soup = BeautifulSoup(html, \"html.parser\")\n",
        "\n",
        "# Filtramos todos los enlaces que apuntan a \"Paris\"\n",
        "paris_links = soup.find_all(href=\"https://www.visitparis.com\")\n",
        "print(\"Enlaces a Paris:\", paris_links)\n",
        "\n",
        "# Filtramos todos los enlaces que apuntan a \"Tokyo\"\n",
        "tokyo_links = soup.find_all(href=\"https://www.visittokyo.com\")\n",
        "print(\"Enlaces a Tokyo:\", tokyo_links)\n",
        "\n",
        "# Si queremos encontrar todos los enlaces con cualquier valor en \"href\"\n",
        "all_links = soup.find_all(href=True)\n",
        "print(\"Todos los enlaces:\", all_links)"
      ],
      "metadata": {
        "colab": {
          "base_uri": "https://localhost:8080/"
        },
        "id": "fc1jxKyHk_4q",
        "outputId": "87f93f9f-9ac4-424e-af26-3e8234708841"
      },
      "execution_count": null,
      "outputs": [
        {
          "output_type": "stream",
          "name": "stdout",
          "text": [
            "Enlaces a Paris: [<a href=\"https://www.visitparis.com\">Paris</a>]\n",
            "Enlaces a Tokyo: [<a href=\"https://www.visittokyo.com\">Tokyo</a>]\n",
            "Todos los enlaces: [<a href=\"https://www.visitparis.com\">Paris</a>, <a href=\"https://www.visittokyo.com\">Tokyo</a>, <a href=\"https://www.visitlondon.com\">London</a>, <a href=\"https://www.visitrio.com\">Rio de Janeiro</a>]\n"
          ]
        }
      ]
    },
    {
      "cell_type": "markdown",
      "source": [
        "🔍 **Más sobre el uso de href:**\n",
        "Si quieres extraer el atributo href de cada enlace, puedes utilizar el método **get()** de BeautifulSoup:"
      ],
      "metadata": {
        "id": "VfDpuHRJlHAF"
      }
    },
    {
      "cell_type": "code",
      "source": [
        "# Extraer los href de todos los enlaces encontrados\n",
        "for link in all_links:\n",
        "    print(link.get('href'))"
      ],
      "metadata": {
        "colab": {
          "base_uri": "https://localhost:8080/"
        },
        "id": "_NQUIAhalNnw",
        "outputId": "a37f0c08-7f6e-437a-d481-47b679f738eb"
      },
      "execution_count": null,
      "outputs": [
        {
          "output_type": "stream",
          "name": "stdout",
          "text": [
            "https://www.visitparis.com\n",
            "https://www.visittokyo.com\n",
            "https://www.visitlondon.com\n",
            "https://www.visitrio.com\n"
          ]
        }
      ]
    },
    {
      "cell_type": "markdown",
      "source": [
        "¡Ahora sabes cómo filtrar enlaces en Beautiful Soup usando URLs específicas y cómo obtener los atributos de los enlaces! 🌐💻"
      ],
      "metadata": {
        "id": "tHY6-IBClSYh"
      }
    },
    {
      "cell_type": "markdown",
      "source": [
        "**🏰 Ejercicio 1:** Encontrar todos los elementos sin valor **href**\n",
        "\n",
        "Queremos encontrar todos los elementos <**a**> que no tienen un atributo href o tienen un valor vacío para href. Para esto, usaremos el parámetro href=False en el método find_all()."
      ],
      "metadata": {
        "id": "P9YWRlFIlUFw"
      }
    },
    {
      "cell_type": "code",
      "source": [
        "%%html\n",
        "<html>\n",
        " <body>\n",
        "  <ul>\n",
        "   <li><a href=\"https://www.visitparis.com\">Paris</a></li>\n",
        "   <li><a href=\"https://www.visittokyo.com\">Tokyo</a></li>\n",
        "   <li><a href=\"\">London</a></li>\n",
        "   <li><a>Rio de Janeiro</a></li>\n",
        "  </ul>\n",
        " </body>\n",
        "</html>"
      ],
      "metadata": {
        "colab": {
          "base_uri": "https://localhost:8080/",
          "height": 98
        },
        "id": "SAjTQUjhoJuf",
        "outputId": "b0c0692d-3bea-462b-d7c7-f62f73682104"
      },
      "execution_count": null,
      "outputs": [
        {
          "output_type": "display_data",
          "data": {
            "text/plain": [
              "<IPython.core.display.HTML object>"
            ],
            "text/html": [
              "<html>\n",
              " <body>\n",
              "  <ul>\n",
              "   <li><a href=\"https://www.visitparis.com\">Paris</a></li>\n",
              "   <li><a href=\"https://www.visittokyo.com\">Tokyo</a></li>\n",
              "   <li><a href=\"\">London</a></li>\n",
              "   <li><a>Rio de Janeiro</a></li>\n",
              "  </ul>\n",
              " </body>\n",
              "</html>\n"
            ]
          },
          "metadata": {}
        }
      ]
    },
    {
      "cell_type": "code",
      "source": [
        "from bs4 import BeautifulSoup\n",
        "\n",
        "# HTML de destinos turísticos con algunos elementos <a> sin atributo href\n",
        "html = \"\"\"\n",
        "<html>\n",
        " <body>\n",
        "  <ul>\n",
        "   <li><a href=\"https://www.visitparis.com\">Paris</a></li>\n",
        "   <li><a href=\"https://www.visittokyo.com\">Tokyo</a></li>\n",
        "   <li><a href=\"\">London</a></li>\n",
        "   <li><a>Rio de Janeiro</a></li>\n",
        "  </ul>\n",
        " </body>\n",
        "</html>\n",
        "\"\"\""
      ],
      "metadata": {
        "id": "Y3k74qiDoXVL"
      },
      "execution_count": null,
      "outputs": []
    },
    {
      "cell_type": "code",
      "source": [
        "# escribe tu codigo aqui:\n"
      ],
      "metadata": {
        "colab": {
          "base_uri": "https://localhost:8080/"
        },
        "id": "8Fv21vJ1oY3R",
        "outputId": "f7230646-76b9-45a7-d64d-938f6d425318"
      },
      "execution_count": null,
      "outputs": [
        {
          "output_type": "stream",
          "name": "stdout",
          "text": [
            "Enlaces sin href:\n",
            "<a>Rio de Janeiro</a>\n"
          ]
        }
      ]
    },
    {
      "cell_type": "markdown",
      "source": [
        "<details> <summary>🌟 Haz clic aquí para revelar la solución</summary>\n",
        "\n",
        "```python\n",
        "# Parseamos el HTML\n",
        "soup = BeautifulSoup(html, \"html.parser\")\n",
        "\n",
        "# Buscamos todos los elementos <a> sin el atributo href\n",
        "links_without_href = soup.find_all('a', href=False)\n",
        "\n",
        "# Imprimimos los elementos encontrados\n",
        "print(\"Enlaces sin href:\")\n",
        "for link in links_without_href:\n",
        "    print(link)\n",
        "```"
      ],
      "metadata": {
        "id": "pIkky5ezoVXt"
      }
    },
    {
      "cell_type": "markdown",
      "source": [
        "💡 El método: **href=False**, filtra todos los elementos <**a**> que no tienen el atributo href o que lo tienen vacío."
      ],
      "metadata": {
        "id": "WaoIcz0VpFlZ"
      }
    },
    {
      "cell_type": "markdown",
      "source": [
        "**🏙️ Ejercicio 2:** Encontrar el elemento con el atributo ***id*** establecido como \"largest\"\n",
        "\n",
        "Queremos encontrar el elemento que tiene el atributo idigual a \"largest\". Usaremos el método find_all()y pasaremos el atributo idcomo parámetro de filtro"
      ],
      "metadata": {
        "id": "IExBmBFMpiof"
      }
    },
    {
      "cell_type": "code",
      "source": [
        "%%html\n",
        "<!DOCTYPE html>\n",
        "<html>\n",
        " <head>\n",
        "  <title>\n",
        "   Datos de Ciudades\n",
        "  </title>\n",
        " </head>\n",
        " <body>\n",
        "  <h3>\n",
        "   <b id=\"largest\">\n",
        "    Tokio\n",
        "   </b>\n",
        "  </h3>\n",
        "  <p>\n",
        "   Población: 37,400,068\n",
        "  </p>\n",
        "  <h3>\n",
        "   Delhi\n",
        "  </h3>\n",
        "  <p>\n",
        "   Población: 31,181,376\n",
        "  </p>\n",
        "  <h3>\n",
        "   Shanghái\n",
        "  </h3>\n",
        "  <p>\n",
        "   Población: 27,058,480\n",
        "  </p>\n",
        " </body>\n",
        "</html>\n"
      ],
      "metadata": {
        "colab": {
          "base_uri": "https://localhost:8080/",
          "height": 203
        },
        "id": "WwFUQvQFp8SV",
        "outputId": "f58edefb-1357-483c-c962-2491b65f53eb"
      },
      "execution_count": null,
      "outputs": [
        {
          "output_type": "display_data",
          "data": {
            "text/plain": [
              "<IPython.core.display.HTML object>"
            ],
            "text/html": [
              "<!DOCTYPE html>\n",
              "<html>\n",
              " <head>\n",
              "  <title>\n",
              "   Datos de Ciudades\n",
              "  </title>\n",
              " </head>\n",
              " <body>\n",
              "  <h3>\n",
              "   <b id=\"largest\">\n",
              "    Tokio\n",
              "   </b>\n",
              "  </h3>\n",
              "  <p>\n",
              "   Población: 37,400,068\n",
              "  </p>\n",
              "  <h3>\n",
              "   Delhi\n",
              "  </h3>\n",
              "  <p>\n",
              "   Población: 31,181,376\n",
              "  </p>\n",
              "  <h3>\n",
              "   Shanghái\n",
              "  </h3>\n",
              "  <p>\n",
              "   Población: 27,058,480\n",
              "  </p>\n",
              " </body>\n",
              "</html>\n"
            ]
          },
          "metadata": {}
        }
      ]
    },
    {
      "cell_type": "code",
      "source": [
        "from bs4 import BeautifulSoup\n",
        "\n",
        "# HTML de ejemplo\n",
        "html = \"\"\"\n",
        "<!DOCTYPE html>\n",
        "<html>\n",
        " <head>\n",
        "  <title>\n",
        "   Datos de Ciudades\n",
        "  </title>\n",
        " </head>\n",
        " <body>\n",
        "  <h3>\n",
        "   <b id=\"largest\">\n",
        "    Tokio\n",
        "   </b>\n",
        "  </h3>\n",
        "  <p>\n",
        "   Población: 37,400,068\n",
        "  </p>\n",
        "  <h3>\n",
        "   Delhi\n",
        "  </h3>\n",
        "  <p>\n",
        "   Población: 31,181,376\n",
        "  </p>\n",
        "  <h3>\n",
        "   Shanghái\n",
        "  </h3>\n",
        "  <p>\n",
        "   Población: 27,058,480\n",
        "  </p>\n",
        " </body>\n",
        "</html>\n",
        "\"\"\""
      ],
      "metadata": {
        "id": "iFdSbztjqDtd"
      },
      "execution_count": null,
      "outputs": []
    },
    {
      "cell_type": "code",
      "source": [
        "# Parseamos el HTML\n",
        "soup = BeautifulSoup(html, \"html.parser\")\n",
        "\n",
        "# Buscamos el elemento con el id=\"largest\"\n",
        "element = soup.find_all(id=\"largest\")\n",
        "\n",
        "# Imprimimos el resultado\n",
        "print(\"Elemento encontrado:\", element)"
      ],
      "metadata": {
        "colab": {
          "base_uri": "https://localhost:8080/"
        },
        "id": "-nnn3fUdqJqF",
        "outputId": "97d4db9c-c146-4d45-c7d2-04ee19f0d500"
      },
      "execution_count": null,
      "outputs": [
        {
          "output_type": "stream",
          "name": "stdout",
          "text": [
            "Elemento encontrado: [<b id=\"largest\">\n",
            "    Tokio\n",
            "   </b>]\n"
          ]
        }
      ]
    },
    {
      "cell_type": "markdown",
      "source": [
        "🧐 **Explicación**:\n",
        "**soup.find_all(id=\"largest\"):** Este código busca todos los elementos que tengan un atributo idcon el valor \"largest\""
      ],
      "metadata": {
        "id": "CICsBsh0qTSY"
      }
    },
    {
      "cell_type": "markdown",
      "source": [
        "**Buscar Cadenas de Texto con string**\n",
        "\n",
        "Queremos encontrar todos los elementos que contienen la cadena de texto \"Tokio\" en su contenido. Usaremos el parámetro string para realizar esta búsqueda."
      ],
      "metadata": {
        "id": "onB5QaE7qqHN"
      }
    },
    {
      "cell_type": "code",
      "source": [
        "from bs4 import BeautifulSoup\n",
        "\n",
        "# HTML de ejemplo\n",
        "html = \"\"\"\n",
        "<!DOCTYPE html>\n",
        "<html>\n",
        " <head>\n",
        "  <title>\n",
        "   Datos de Ciudades\n",
        "  </title>\n",
        " </head>\n",
        " <body>\n",
        "  <h3>\n",
        "   <b id=\"largest\">\n",
        "    Tokio\n",
        "   </b>\n",
        "  </h3>\n",
        "  <p>\n",
        "   Población: 37,400,068\n",
        "  </p>\n",
        "  <h3>\n",
        "   Delhi\n",
        "  </h3>\n",
        "  <p>\n",
        "   Población: 31,181,376\n",
        "  </p>\n",
        "  <h3>\n",
        "   Shanghái\n",
        "  </h3>\n",
        "  <p>\n",
        "   Población: 27,058,480\n",
        "  </p>\n",
        " </body>\n",
        "</html>\n",
        "\"\"\"\n",
        "\n",
        "# Parseamos el HTML\n",
        "soup = BeautifulSoup(html, \"html.parser\")\n",
        "\n",
        "# Buscamos todos los elementos que contienen \"Tokio\"\n",
        "elements = soup.find_all(string=lambda text: \"Tokio\" in text)\n",
        "\n",
        "# Imprimimos el resultado\n",
        "print(\"Elemento(s) encontrado(s):\", elements)\n"
      ],
      "metadata": {
        "colab": {
          "base_uri": "https://localhost:8080/"
        },
        "id": "yGSItvtFqy5Z",
        "outputId": "cedbde5d-dcb7-4dd3-b8b1-974bf9a5ad52"
      },
      "execution_count": null,
      "outputs": [
        {
          "output_type": "stream",
          "name": "stdout",
          "text": [
            "Elemento(s) encontrado(s): ['\\n    Tokio\\n   ']\n"
          ]
        }
      ]
    },
    {
      "cell_type": "markdown",
      "source": [
        "💡 El método **find_all(string=\"Tokio\")** te permite buscar de manera eficiente un texto específico dentro de los elementos del HTML. En este caso, buscamos la ciudad \"Tokio\" y lo encontramos en el elemento <**b** id=\"largest\">."
      ],
      "metadata": {
        "id": "JA-MVNPIrkJx"
      }
    },
    {
      "cell_type": "markdown",
      "source": [
        " 🌟**find**\n",
        "\n",
        " Utilizando el método **find()** para encontrar el primer elemento de una estructura HTML y cómo filtrar según el atributo classpara encontrar un elemento específico."
      ],
      "metadata": {
        "id": "1Ot1jEmFsdeq"
      }
    },
    {
      "cell_type": "code",
      "source": [
        "%%html\n",
        "<h3>Lanzamiento de Cohetes</h3>\n",
        "\n",
        "<p>\n",
        "  <table class='cohete'>\n",
        "    <tr>\n",
        "      <td>Número de vuelo</td>\n",
        "      <td>Sitio de lanzamiento</td>\n",
        "      <td>Masa de la carga útil</td>\n",
        "    </tr>\n",
        "    <tr>\n",
        "      <td>1</td>\n",
        "      <td><a href='https://www.nasa.gov/centers/kennedy'>Kennedy Space Center</a></td>\n",
        "      <td>300 kg</td>\n",
        "    </tr>\n",
        "    <tr>\n",
        "      <td>2</td>\n",
        "      <td><a href='https://www.spacex.com/launches'>SpaceX Launch</a></td>\n",
        "      <td>94 kg</td>\n",
        "    </tr>\n",
        "    <tr>\n",
        "      <td>3</td>\n",
        "      <td><a href='https://www.capecanaveral.com/'>Cape Canaveral</a></td>\n",
        "      <td>80 kg</td>\n",
        "    </tr>\n",
        "  </table>\n",
        "</p>\n",
        "\n",
        "<p>\n",
        "  <h3>Fiesta de Pizza</h3>\n",
        "  <table class='pizza'>\n",
        "    <tr>\n",
        "      <td>Lugar de Pizza</td>\n",
        "      <td>Órdenes</td>\n",
        "      <td>Porciones</td>\n",
        "    </tr>\n",
        "    <tr>\n",
        "      <td><a href='https://www.dominos.com/'>Domino's Pizza</a></td>\n",
        "      <td>10</td>\n",
        "      <td>100</td>\n",
        "    </tr>\n",
        "    <tr>\n",
        "      <td><a href='https://www.littlecaesars.com/'>Little Caesars</a></td>\n",
        "      <td>12</td>\n",
        "      <td>144</td>\n",
        "    </tr>\n",
        "    <tr>\n",
        "      <td><a href='https://www.papajohns.com/'>Papa John's</a></td>\n",
        "      <td>15</td>\n",
        "      <td>165</td>\n",
        "    </tr>\n",
        "  </table>\n",
        "</p>\n",
        "\n"
      ],
      "metadata": {
        "colab": {
          "base_uri": "https://localhost:8080/",
          "height": 281
        },
        "id": "_fhWB0ynq6EN",
        "outputId": "8d0cb491-2bc3-42b6-a40d-2b02cab3bae7"
      },
      "execution_count": null,
      "outputs": [
        {
          "output_type": "display_data",
          "data": {
            "text/plain": [
              "<IPython.core.display.HTML object>"
            ],
            "text/html": [
              "<h3>Lanzamiento de Cohetes</h3>\n",
              "\n",
              "<p>\n",
              "  <table class='cohete'>\n",
              "    <tr>\n",
              "      <td>Número de vuelo</td>\n",
              "      <td>Sitio de lanzamiento</td>\n",
              "      <td>Masa de la carga útil</td>\n",
              "    </tr>\n",
              "    <tr>\n",
              "      <td>1</td>\n",
              "      <td><a href='https://www.nasa.gov/centers/kennedy'>Kennedy Space Center</a></td>\n",
              "      <td>300 kg</td>\n",
              "    </tr>\n",
              "    <tr>\n",
              "      <td>2</td>\n",
              "      <td><a href='https://www.spacex.com/launches'>SpaceX Launch</a></td>\n",
              "      <td>94 kg</td>\n",
              "    </tr>\n",
              "    <tr>\n",
              "      <td>3</td>\n",
              "      <td><a href='https://www.capecanaveral.com/'>Cape Canaveral</a></td>\n",
              "      <td>80 kg</td>\n",
              "    </tr>\n",
              "  </table>\n",
              "</p>\n",
              "\n",
              "<p>\n",
              "  <h3>Fiesta de Pizza</h3>\n",
              "  <table class='pizza'>\n",
              "    <tr>\n",
              "      <td>Lugar de Pizza</td>\n",
              "      <td>Órdenes</td>\n",
              "      <td>Porciones</td>\n",
              "    </tr>\n",
              "    <tr>\n",
              "      <td><a href='https://www.dominos.com/'>Domino's Pizza</a></td>\n",
              "      <td>10</td>\n",
              "      <td>100</td>\n",
              "    </tr>\n",
              "    <tr>\n",
              "      <td><a href='https://www.littlecaesars.com/'>Little Caesars</a></td>\n",
              "      <td>12</td>\n",
              "      <td>144</td>\n",
              "    </tr>\n",
              "    <tr>\n",
              "      <td><a href='https://www.papajohns.com/'>Papa John's</a></td>\n",
              "      <td>15</td>\n",
              "      <td>165</td>\n",
              "    </tr>\n",
              "  </table>\n",
              "</p>\n",
              "\n"
            ]
          },
          "metadata": {}
        }
      ]
    },
    {
      "cell_type": "markdown",
      "source": [
        "💡 Guardamos el HTML como una cadena en la variable dos_tablas:\n",
        "\n"
      ],
      "metadata": {
        "id": "TdwQQmLGtHYS"
      }
    },
    {
      "cell_type": "code",
      "source": [
        "dos_tablas = \"\"\"\n",
        "<h3>Lanzamiento de Cohetes</h3>\n",
        "<p>\n",
        "  <table class='cohete'>\n",
        "    <tr>\n",
        "      <td>Número de vuelo</td>\n",
        "      <td>Sitio de lanzamiento</td>\n",
        "      <td>Masa de la carga útil</td>\n",
        "    </tr>\n",
        "    <tr>\n",
        "      <td>1</td>\n",
        "      <td><a href='https://www.nasa.gov/centers/kennedy'>Kennedy Space Center</a></td>\n",
        "      <td>300 kg</td>\n",
        "    </tr>\n",
        "    <tr>\n",
        "      <td>2</td>\n",
        "      <td><a href='https://www.spacex.com/launches'>SpaceX Launch</a></td>\n",
        "      <td>94 kg</td>\n",
        "    </tr>\n",
        "    <tr>\n",
        "      <td>3</td>\n",
        "      <td><a href='https://www.capecanaveral.com/'>Cape Canaveral</a></td>\n",
        "      <td>80 kg</td>\n",
        "    </tr>\n",
        "  </table>\n",
        "</p>\n",
        "<p>\n",
        "  <h3>Fiesta de Pizza</h3>\n",
        "  <table class='pizza'>\n",
        "    <tr>\n",
        "      <td>Lugar de Pizza</td>\n",
        "      <td>Órdenes</td>\n",
        "      <td>Porciones</td>\n",
        "    </tr>\n",
        "    <tr>\n",
        "      <td><a href='https://www.dominos.com/'>Domino's Pizza</a></td>\n",
        "      <td>10</td>\n",
        "      <td>100</td>\n",
        "    </tr>\n",
        "    <tr>\n",
        "      <td><a href='https://www.littlecaesars.com/'>Little Caesars</a></td>\n",
        "      <td>12</td>\n",
        "      <td>144</td>\n",
        "    </tr>\n",
        "    <tr>\n",
        "      <td><a href='https://www.papajohns.com/'>Papa John's</a></td>\n",
        "      <td>15</td>\n",
        "      <td>165</td>\n",
        "    </tr>\n",
        "  </table>\n",
        "</p>\n",
        "\"\"\""
      ],
      "metadata": {
        "id": "pH9zV_lztWys"
      },
      "execution_count": null,
      "outputs": []
    },
    {
      "cell_type": "markdown",
      "source": [
        "Creamos el objeto BeautifulSoup:\n"
      ],
      "metadata": {
        "id": "iMRjxeO6tU6o"
      }
    },
    {
      "cell_type": "code",
      "source": [
        "from bs4 import BeautifulSoup\n",
        "\n",
        "dos_tablas_bs = BeautifulSoup(dos_tablas, 'html.parser')"
      ],
      "metadata": {
        "id": "bu0rxCJqtPMb"
      },
      "execution_count": null,
      "outputs": []
    },
    {
      "cell_type": "markdown",
      "source": [
        "Encontramos la primera tabla (sin filtro):\n"
      ],
      "metadata": {
        "id": "_4opsnm4tlqG"
      }
    },
    {
      "cell_type": "code",
      "source": [
        "primera_table = dos_tablas_bs.find(\"table\")\n",
        "print(primera_table)"
      ],
      "metadata": {
        "colab": {
          "base_uri": "https://localhost:8080/"
        },
        "id": "QSu1Lqs_tm6H",
        "outputId": "f9c70066-fa46-4f93-bf6a-481a0147e683"
      },
      "execution_count": null,
      "outputs": [
        {
          "output_type": "stream",
          "name": "stdout",
          "text": [
            "<table class=\"cohete\">\n",
            "<tr>\n",
            "<td>Número de vuelo</td>\n",
            "<td>Sitio de lanzamiento</td>\n",
            "<td>Masa de la carga útil</td>\n",
            "</tr>\n",
            "<tr>\n",
            "<td>1</td>\n",
            "<td><a href=\"https://www.nasa.gov/centers/kennedy\">Kennedy Space Center</a></td>\n",
            "<td>300 kg</td>\n",
            "</tr>\n",
            "<tr>\n",
            "<td>2</td>\n",
            "<td><a href=\"https://www.spacex.com/launches\">SpaceX Launch</a></td>\n",
            "<td>94 kg</td>\n",
            "</tr>\n",
            "<tr>\n",
            "<td>3</td>\n",
            "<td><a href=\"https://www.capecanaveral.com/\">Cape Canaveral</a></td>\n",
            "<td>80 kg</td>\n",
            "</tr>\n",
            "</table>\n"
          ]
        }
      ]
    },
    {
      "cell_type": "code",
      "source": [
        "segunda_tabla = dos_tablas_bs.find(\"table\", class_=\"pizza\")\n",
        "print(segunda_tabla)"
      ],
      "metadata": {
        "colab": {
          "base_uri": "https://localhost:8080/"
        },
        "id": "Fl4ZmK7huBDv",
        "outputId": "d4515d96-fb53-4b2f-90cf-3becbb075e62"
      },
      "execution_count": null,
      "outputs": [
        {
          "output_type": "stream",
          "name": "stdout",
          "text": [
            "<table class=\"pizza\">\n",
            "<tr>\n",
            "<td>Lugar de Pizza</td>\n",
            "<td>Órdenes</td>\n",
            "<td>Porciones</td>\n",
            "</tr>\n",
            "<tr>\n",
            "<td><a href=\"https://www.dominos.com/\">Domino's Pizza</a></td>\n",
            "<td>10</td>\n",
            "<td>100</td>\n",
            "</tr>\n",
            "<tr>\n",
            "<td><a href=\"https://www.littlecaesars.com/\">Little Caesars</a></td>\n",
            "<td>12</td>\n",
            "<td>144</td>\n",
            "</tr>\n",
            "<tr>\n",
            "<td><a href=\"https://www.papajohns.com/\">Papa John's</a></td>\n",
            "<td>15</td>\n",
            "<td>165</td>\n",
            "</tr>\n",
            "</table>\n"
          ]
        }
      ]
    },
    {
      "cell_type": "markdown",
      "source": [
        "💡 El método find() es útil cuando deseas encontrar el primer elemento que coincida con un patrón, y find() con filtros como class_ te permite buscar elementos específicos en función de sus atributos."
      ],
      "metadata": {
        "id": "APW4j6CNuxYc"
      }
    },
    {
      "cell_type": "markdown",
      "source": [
        "**Descargar y raspar los contenidos de una página web** 📥💻\n",
        "\n",
        "Primero, descargamos el contenido de la página web:"
      ],
      "metadata": {
        "id": "6gb1VVC6vT-9"
      }
    },
    {
      "cell_type": "code",
      "source": [
        "url = \"https://web.archive.org/web/20230224123642/https://www.wikipedia.org/\""
      ],
      "metadata": {
        "id": "506bua4wvYFC"
      },
      "execution_count": null,
      "outputs": []
    },
    {
      "cell_type": "markdown",
      "source": [
        "Usamos **requests.get** para descargar el contenido de la página en formato de texto y lo almacenamos en una llamada variable data:"
      ],
      "metadata": {
        "id": "T35IcPfVvcmC"
      }
    },
    {
      "cell_type": "code",
      "source": [
        "data = requests.get(url).text"
      ],
      "metadata": {
        "id": "6yt9lSlxvgIq"
      },
      "execution_count": null,
      "outputs": []
    },
    {
      "cell_type": "markdown",
      "source": [
        "Luego, creamos un objeto BeautifulSoup utilizando el constructor BeautifulSoup con la variable data:"
      ],
      "metadata": {
        "id": "64GkYQAPvkx4"
      }
    },
    {
      "cell_type": "code",
      "source": [
        "soup = BeautifulSoup(data, \"html.parser\")  # Creamos un objeto 'soup' usando la variable 'data' 🥣"
      ],
      "metadata": {
        "id": "QjrQaj9Zvjgk"
      },
      "execution_count": null,
      "outputs": []
    },
    {
      "cell_type": "markdown",
      "source": [
        "Ahora, para raspar todos los enlaces de la página web 🔗, podemos:"
      ],
      "metadata": {
        "id": "HKC_i_zFvsvp"
      }
    },
    {
      "cell_type": "code",
      "source": [
        "links = soup.find_all(\"a\")  # Encontrar todos los enlaces <a> en la página\n",
        "for link in links:\n",
        "    print(link.get('href'))  # Imprimir el atributo href de cada enlace"
      ],
      "metadata": {
        "colab": {
          "base_uri": "https://localhost:8080/"
        },
        "id": "_dqv-MuJvwzO",
        "outputId": "d495a36a-48f2-4db9-f410-eb4a58d5c8da"
      },
      "execution_count": null,
      "outputs": [
        {
          "output_type": "stream",
          "name": "stdout",
          "text": [
            "//web.archive.org/web/20230224123741/https://en.wikipedia.org/\n",
            "//web.archive.org/web/20230224123741/https://ru.wikipedia.org/\n",
            "//web.archive.org/web/20230224123741/https://ja.wikipedia.org/\n",
            "//web.archive.org/web/20230224123741/https://de.wikipedia.org/\n",
            "//web.archive.org/web/20230224123741/https://fr.wikipedia.org/\n",
            "//web.archive.org/web/20230224123741/https://es.wikipedia.org/\n",
            "//web.archive.org/web/20230224123741/https://it.wikipedia.org/\n",
            "//web.archive.org/web/20230224123741/https://zh.wikipedia.org/\n",
            "//web.archive.org/web/20230224123741/https://fa.wikipedia.org/\n",
            "//web.archive.org/web/20230224123741/https://pl.wikipedia.org/\n",
            "//web.archive.org/web/20230224123741/https://pl.wikipedia.org/\n",
            "//web.archive.org/web/20230224123741/https://ar.wikipedia.org/\n",
            "//web.archive.org/web/20230224123741/https://de.wikipedia.org/\n",
            "//web.archive.org/web/20230224123741/https://en.wikipedia.org/\n",
            "//web.archive.org/web/20230224123741/https://es.wikipedia.org/\n",
            "//web.archive.org/web/20230224123741/https://fr.wikipedia.org/\n",
            "//web.archive.org/web/20230224123741/https://it.wikipedia.org/\n",
            "//web.archive.org/web/20230224123741/https://arz.wikipedia.org/\n",
            "//web.archive.org/web/20230224123741/https://nl.wikipedia.org/\n",
            "//web.archive.org/web/20230224123741/https://ja.wikipedia.org/\n",
            "//web.archive.org/web/20230224123741/https://pt.wikipedia.org/\n",
            "//web.archive.org/web/20230224123741/https://ceb.wikipedia.org/\n",
            "//web.archive.org/web/20230224123741/https://sv.wikipedia.org/\n",
            "//web.archive.org/web/20230224123741/https://uk.wikipedia.org/\n",
            "//web.archive.org/web/20230224123741/https://vi.wikipedia.org/\n",
            "//web.archive.org/web/20230224123741/https://war.wikipedia.org/\n",
            "//web.archive.org/web/20230224123741/https://zh.wikipedia.org/\n",
            "//web.archive.org/web/20230224123741/https://ru.wikipedia.org/\n",
            "//web.archive.org/web/20230224123741/https://af.wikipedia.org/\n",
            "//web.archive.org/web/20230224123741/https://ast.wikipedia.org/\n",
            "//web.archive.org/web/20230224123741/https://az.wikipedia.org/\n",
            "//web.archive.org/web/20230224123741/https://bg.wikipedia.org/\n",
            "//web.archive.org/web/20230224123741/https://zh-min-nan.wikipedia.org/\n",
            "//web.archive.org/web/20230224123741/https://bn.wikipedia.org/\n",
            "//web.archive.org/web/20230224123741/https://be.wikipedia.org/\n",
            "//web.archive.org/web/20230224123741/https://ca.wikipedia.org/\n",
            "//web.archive.org/web/20230224123741/https://cs.wikipedia.org/\n",
            "//web.archive.org/web/20230224123741/https://cy.wikipedia.org/\n",
            "//web.archive.org/web/20230224123741/https://da.wikipedia.org/\n",
            "//web.archive.org/web/20230224123741/https://et.wikipedia.org/\n",
            "//web.archive.org/web/20230224123741/https://el.wikipedia.org/\n",
            "//web.archive.org/web/20230224123741/https://eo.wikipedia.org/\n",
            "//web.archive.org/web/20230224123741/https://eu.wikipedia.org/\n",
            "//web.archive.org/web/20230224123741/https://fa.wikipedia.org/\n",
            "//web.archive.org/web/20230224123741/https://gl.wikipedia.org/\n",
            "//web.archive.org/web/20230224123741/https://ko.wikipedia.org/\n",
            "//web.archive.org/web/20230224123741/https://hi.wikipedia.org/\n",
            "//web.archive.org/web/20230224123741/https://hr.wikipedia.org/\n",
            "//web.archive.org/web/20230224123741/https://id.wikipedia.org/\n",
            "//web.archive.org/web/20230224123741/https://he.wikipedia.org/\n",
            "//web.archive.org/web/20230224123741/https://ka.wikipedia.org/\n",
            "//web.archive.org/web/20230224123741/https://la.wikipedia.org/\n",
            "//web.archive.org/web/20230224123741/https://lv.wikipedia.org/\n",
            "//web.archive.org/web/20230224123741/https://lt.wikipedia.org/\n",
            "//web.archive.org/web/20230224123741/https://hu.wikipedia.org/\n",
            "//web.archive.org/web/20230224123741/https://mk.wikipedia.org/\n",
            "//web.archive.org/web/20230224123741/https://ms.wikipedia.org/\n",
            "//web.archive.org/web/20230224123741/https://min.wikipedia.org/\n",
            "//web.archive.org/web/20230224123741/https://no.wikipedia.org/\n",
            "//web.archive.org/web/20230224123741/https://nn.wikipedia.org/\n",
            "//web.archive.org/web/20230224123741/https://ce.wikipedia.org/\n",
            "//web.archive.org/web/20230224123741/https://uz.wikipedia.org/\n",
            "//web.archive.org/web/20230224123741/https://kk.wikipedia.org/\n",
            "//web.archive.org/web/20230224123741/https://ro.wikipedia.org/\n",
            "//web.archive.org/web/20230224123741/https://simple.wikipedia.org/\n",
            "//web.archive.org/web/20230224123741/https://sk.wikipedia.org/\n",
            "//web.archive.org/web/20230224123741/https://sl.wikipedia.org/\n",
            "//web.archive.org/web/20230224123741/https://sr.wikipedia.org/\n",
            "//web.archive.org/web/20230224123741/https://sh.wikipedia.org/\n",
            "//web.archive.org/web/20230224123741/https://fi.wikipedia.org/\n",
            "//web.archive.org/web/20230224123741/https://ta.wikipedia.org/\n",
            "//web.archive.org/web/20230224123741/https://tt.wikipedia.org/\n",
            "//web.archive.org/web/20230224123741/https://th.wikipedia.org/\n",
            "//web.archive.org/web/20230224123741/https://tg.wikipedia.org/\n",
            "//web.archive.org/web/20230224123741/https://azb.wikipedia.org/\n",
            "//web.archive.org/web/20230224123741/https://tr.wikipedia.org/\n",
            "//web.archive.org/web/20230224123741/https://ur.wikipedia.org/\n",
            "//web.archive.org/web/20230224123741/https://zh-yue.wikipedia.org/\n",
            "//web.archive.org/web/20230224123741/https://hy.wikipedia.org/\n",
            "//web.archive.org/web/20230224123741/https://my.wikipedia.org/\n",
            "//web.archive.org/web/20230224123741/https://ace.wikipedia.org/\n",
            "//web.archive.org/web/20230224123741/https://als.wikipedia.org/\n",
            "//web.archive.org/web/20230224123741/https://am.wikipedia.org/\n",
            "//web.archive.org/web/20230224123741/https://an.wikipedia.org/\n",
            "//web.archive.org/web/20230224123741/https://hyw.wikipedia.org/\n",
            "//web.archive.org/web/20230224123741/https://ban.wikipedia.org/\n",
            "//web.archive.org/web/20230224123741/https://bjn.wikipedia.org/\n",
            "//web.archive.org/web/20230224123741/https://map-bms.wikipedia.org/\n",
            "//web.archive.org/web/20230224123741/https://ba.wikipedia.org/\n",
            "//web.archive.org/web/20230224123741/https://be-tarask.wikipedia.org/\n",
            "//web.archive.org/web/20230224123741/https://bcl.wikipedia.org/\n",
            "//web.archive.org/web/20230224123741/https://bpy.wikipedia.org/\n",
            "//web.archive.org/web/20230224123741/https://bar.wikipedia.org/\n",
            "//web.archive.org/web/20230224123741/https://bs.wikipedia.org/\n",
            "//web.archive.org/web/20230224123741/https://br.wikipedia.org/\n",
            "//web.archive.org/web/20230224123741/https://cv.wikipedia.org/\n",
            "//web.archive.org/web/20230224123741/https://nv.wikipedia.org/\n",
            "//web.archive.org/web/20230224123741/https://eml.wikipedia.org/\n",
            "//web.archive.org/web/20230224123741/https://hif.wikipedia.org/\n",
            "//web.archive.org/web/20230224123741/https://fo.wikipedia.org/\n",
            "//web.archive.org/web/20230224123741/https://fy.wikipedia.org/\n",
            "//web.archive.org/web/20230224123741/https://ga.wikipedia.org/\n",
            "//web.archive.org/web/20230224123741/https://gd.wikipedia.org/\n",
            "//web.archive.org/web/20230224123741/https://gu.wikipedia.org/\n",
            "//web.archive.org/web/20230224123741/https://hak.wikipedia.org/\n",
            "//web.archive.org/web/20230224123741/https://ha.wikipedia.org/\n",
            "//web.archive.org/web/20230224123741/https://hsb.wikipedia.org/\n",
            "//web.archive.org/web/20230224123741/https://io.wikipedia.org/\n",
            "//web.archive.org/web/20230224123741/https://ig.wikipedia.org/\n",
            "//web.archive.org/web/20230224123741/https://ilo.wikipedia.org/\n",
            "//web.archive.org/web/20230224123741/https://ia.wikipedia.org/\n",
            "//web.archive.org/web/20230224123741/https://ie.wikipedia.org/\n",
            "//web.archive.org/web/20230224123741/https://os.wikipedia.org/\n",
            "//web.archive.org/web/20230224123741/https://is.wikipedia.org/\n",
            "//web.archive.org/web/20230224123741/https://jv.wikipedia.org/\n",
            "//web.archive.org/web/20230224123741/https://kn.wikipedia.org/\n",
            "//web.archive.org/web/20230224123741/https://ht.wikipedia.org/\n",
            "//web.archive.org/web/20230224123741/https://ku.wikipedia.org/\n",
            "//web.archive.org/web/20230224123741/https://ckb.wikipedia.org/\n",
            "//web.archive.org/web/20230224123741/https://ky.wikipedia.org/\n",
            "//web.archive.org/web/20230224123741/https://mrj.wikipedia.org/\n",
            "//web.archive.org/web/20230224123741/https://lb.wikipedia.org/\n",
            "//web.archive.org/web/20230224123741/https://lij.wikipedia.org/\n",
            "//web.archive.org/web/20230224123741/https://li.wikipedia.org/\n",
            "//web.archive.org/web/20230224123741/https://lmo.wikipedia.org/\n",
            "//web.archive.org/web/20230224123741/https://mai.wikipedia.org/\n",
            "//web.archive.org/web/20230224123741/https://mg.wikipedia.org/\n",
            "//web.archive.org/web/20230224123741/https://ml.wikipedia.org/\n",
            "//web.archive.org/web/20230224123741/https://zh-classical.wikipedia.org/\n",
            "//web.archive.org/web/20230224123741/https://mr.wikipedia.org/\n",
            "//web.archive.org/web/20230224123741/https://xmf.wikipedia.org/\n",
            "//web.archive.org/web/20230224123741/https://mzn.wikipedia.org/\n",
            "//web.archive.org/web/20230224123741/https://cdo.wikipedia.org/\n",
            "//web.archive.org/web/20230224123741/https://mn.wikipedia.org/\n",
            "//web.archive.org/web/20230224123741/https://nap.wikipedia.org/\n",
            "//web.archive.org/web/20230224123741/https://new.wikipedia.org/\n",
            "//web.archive.org/web/20230224123741/https://ne.wikipedia.org/\n",
            "//web.archive.org/web/20230224123741/https://frr.wikipedia.org/\n",
            "//web.archive.org/web/20230224123741/https://oc.wikipedia.org/\n",
            "//web.archive.org/web/20230224123741/https://mhr.wikipedia.org/\n",
            "//web.archive.org/web/20230224123741/https://or.wikipedia.org/\n",
            "//web.archive.org/web/20230224123741/https://as.wikipedia.org/\n",
            "//web.archive.org/web/20230224123741/https://pa.wikipedia.org/\n",
            "//web.archive.org/web/20230224123741/https://pnb.wikipedia.org/\n",
            "//web.archive.org/web/20230224123741/https://ps.wikipedia.org/\n",
            "//web.archive.org/web/20230224123741/https://pms.wikipedia.org/\n",
            "//web.archive.org/web/20230224123741/https://nds.wikipedia.org/\n",
            "//web.archive.org/web/20230224123741/https://crh.wikipedia.org/\n",
            "//web.archive.org/web/20230224123741/https://qu.wikipedia.org/\n",
            "//web.archive.org/web/20230224123741/https://sa.wikipedia.org/\n",
            "//web.archive.org/web/20230224123741/https://sah.wikipedia.org/\n",
            "//web.archive.org/web/20230224123741/https://sco.wikipedia.org/\n",
            "//web.archive.org/web/20230224123741/https://sn.wikipedia.org/\n",
            "//web.archive.org/web/20230224123741/https://sq.wikipedia.org/\n",
            "//web.archive.org/web/20230224123741/https://scn.wikipedia.org/\n",
            "//web.archive.org/web/20230224123741/https://si.wikipedia.org/\n",
            "//web.archive.org/web/20230224123741/https://sd.wikipedia.org/\n",
            "//web.archive.org/web/20230224123741/https://szl.wikipedia.org/\n",
            "//web.archive.org/web/20230224123741/https://su.wikipedia.org/\n",
            "//web.archive.org/web/20230224123741/https://sw.wikipedia.org/\n",
            "//web.archive.org/web/20230224123741/https://tl.wikipedia.org/\n",
            "//web.archive.org/web/20230224123741/https://shn.wikipedia.org/\n",
            "//web.archive.org/web/20230224123741/https://te.wikipedia.org/\n",
            "//web.archive.org/web/20230224123741/https://bug.wikipedia.org/\n",
            "//web.archive.org/web/20230224123741/https://vec.wikipedia.org/\n",
            "//web.archive.org/web/20230224123741/https://vo.wikipedia.org/\n",
            "//web.archive.org/web/20230224123741/https://wa.wikipedia.org/\n",
            "//web.archive.org/web/20230224123741/https://wuu.wikipedia.org/\n",
            "//web.archive.org/web/20230224123741/https://yi.wikipedia.org/\n",
            "//web.archive.org/web/20230224123741/https://yo.wikipedia.org/\n",
            "//web.archive.org/web/20230224123741/https://diq.wikipedia.org/\n",
            "//web.archive.org/web/20230224123741/https://bat-smg.wikipedia.org/\n",
            "//web.archive.org/web/20230224123741/https://zu.wikipedia.org/\n",
            "//web.archive.org/web/20230224123741/https://lad.wikipedia.org/\n",
            "//web.archive.org/web/20230224123741/https://kbd.wikipedia.org/\n",
            "//web.archive.org/web/20230224123741/https://ang.wikipedia.org/\n",
            "//web.archive.org/web/20230224123741/https://smn.wikipedia.org/\n",
            "//web.archive.org/web/20230224123741/https://ab.wikipedia.org/\n",
            "//web.archive.org/web/20230224123741/https://roa-rup.wikipedia.org/\n",
            "//web.archive.org/web/20230224123741/https://frp.wikipedia.org/\n",
            "//web.archive.org/web/20230224123741/https://arc.wikipedia.org/\n",
            "//web.archive.org/web/20230224123741/https://gn.wikipedia.org/\n",
            "//web.archive.org/web/20230224123741/https://av.wikipedia.org/\n",
            "//web.archive.org/web/20230224123741/https://ay.wikipedia.org/\n",
            "//web.archive.org/web/20230224123741/https://bh.wikipedia.org/\n",
            "//web.archive.org/web/20230224123741/https://bi.wikipedia.org/\n",
            "//web.archive.org/web/20230224123741/https://bo.wikipedia.org/\n",
            "//web.archive.org/web/20230224123741/https://bxr.wikipedia.org/\n",
            "//web.archive.org/web/20230224123741/https://cbk-zam.wikipedia.org/\n",
            "//web.archive.org/web/20230224123741/https://co.wikipedia.org/\n",
            "//web.archive.org/web/20230224123741/https://za.wikipedia.org/\n",
            "//web.archive.org/web/20230224123741/https://dag.wikipedia.org/\n",
            "//web.archive.org/web/20230224123741/https://ary.wikipedia.org/\n",
            "//web.archive.org/web/20230224123741/https://se.wikipedia.org/\n",
            "//web.archive.org/web/20230224123741/https://pdc.wikipedia.org/\n",
            "//web.archive.org/web/20230224123741/https://dv.wikipedia.org/\n",
            "//web.archive.org/web/20230224123741/https://dsb.wikipedia.org/\n",
            "//web.archive.org/web/20230224123741/https://myv.wikipedia.org/\n",
            "//web.archive.org/web/20230224123741/https://ext.wikipedia.org/\n",
            "//web.archive.org/web/20230224123741/https://fur.wikipedia.org/\n",
            "//web.archive.org/web/20230224123741/https://gv.wikipedia.org/\n",
            "//web.archive.org/web/20230224123741/https://gag.wikipedia.org/\n",
            "//web.archive.org/web/20230224123741/https://inh.wikipedia.org/\n",
            "//web.archive.org/web/20230224123741/https://ki.wikipedia.org/\n",
            "//web.archive.org/web/20230224123741/https://glk.wikipedia.org/\n",
            "//web.archive.org/web/20230224123741/https://gan.wikipedia.org/\n",
            "//web.archive.org/web/20230224123741/https://guw.wikipedia.org/\n",
            "//web.archive.org/web/20230224123741/https://xal.wikipedia.org/\n",
            "//web.archive.org/web/20230224123741/https://haw.wikipedia.org/\n",
            "//web.archive.org/web/20230224123741/https://rw.wikipedia.org/\n",
            "//web.archive.org/web/20230224123741/https://kbp.wikipedia.org/\n",
            "//web.archive.org/web/20230224123741/https://pam.wikipedia.org/\n",
            "//web.archive.org/web/20230224123741/https://csb.wikipedia.org/\n",
            "//web.archive.org/web/20230224123741/https://kw.wikipedia.org/\n",
            "//web.archive.org/web/20230224123741/https://km.wikipedia.org/\n",
            "//web.archive.org/web/20230224123741/https://kv.wikipedia.org/\n",
            "//web.archive.org/web/20230224123741/https://koi.wikipedia.org/\n",
            "//web.archive.org/web/20230224123741/https://kg.wikipedia.org/\n",
            "//web.archive.org/web/20230224123741/https://gom.wikipedia.org/\n",
            "//web.archive.org/web/20230224123741/https://ks.wikipedia.org/\n",
            "//web.archive.org/web/20230224123741/https://gcr.wikipedia.org/\n",
            "//web.archive.org/web/20230224123741/https://lo.wikipedia.org/\n",
            "//web.archive.org/web/20230224123741/https://lbe.wikipedia.org/\n",
            "//web.archive.org/web/20230224123741/https://ltg.wikipedia.org/\n",
            "//web.archive.org/web/20230224123741/https://lez.wikipedia.org/\n",
            "//web.archive.org/web/20230224123741/https://nia.wikipedia.org/\n",
            "//web.archive.org/web/20230224123741/https://ln.wikipedia.org/\n",
            "//web.archive.org/web/20230224123741/https://jbo.wikipedia.org/\n",
            "//web.archive.org/web/20230224123741/https://lg.wikipedia.org/\n",
            "//web.archive.org/web/20230224123741/https://mt.wikipedia.org/\n",
            "//web.archive.org/web/20230224123741/https://mi.wikipedia.org/\n",
            "//web.archive.org/web/20230224123741/https://tw.wikipedia.org/\n",
            "//web.archive.org/web/20230224123741/https://mwl.wikipedia.org/\n",
            "//web.archive.org/web/20230224123741/https://mdf.wikipedia.org/\n",
            "//web.archive.org/web/20230224123741/https://mnw.wikipedia.org/\n",
            "//web.archive.org/web/20230224123741/https://nqo.wikipedia.org/\n",
            "//web.archive.org/web/20230224123741/https://fj.wikipedia.org/\n",
            "//web.archive.org/web/20230224123741/https://nah.wikipedia.org/\n",
            "//web.archive.org/web/20230224123741/https://na.wikipedia.org/\n",
            "//web.archive.org/web/20230224123741/https://nds-nl.wikipedia.org/\n",
            "//web.archive.org/web/20230224123741/https://nrm.wikipedia.org/\n",
            "//web.archive.org/web/20230224123741/https://nov.wikipedia.org/\n",
            "//web.archive.org/web/20230224123741/https://om.wikipedia.org/\n",
            "//web.archive.org/web/20230224123741/https://blk.wikipedia.org/\n",
            "//web.archive.org/web/20230224123741/https://pi.wikipedia.org/\n",
            "//web.archive.org/web/20230224123741/https://pag.wikipedia.org/\n",
            "//web.archive.org/web/20230224123741/https://pap.wikipedia.org/\n",
            "//web.archive.org/web/20230224123741/https://pfl.wikipedia.org/\n",
            "//web.archive.org/web/20230224123741/https://pcd.wikipedia.org/\n",
            "//web.archive.org/web/20230224123741/https://krc.wikipedia.org/\n",
            "//web.archive.org/web/20230224123741/https://kaa.wikipedia.org/\n",
            "//web.archive.org/web/20230224123741/https://ksh.wikipedia.org/\n",
            "//web.archive.org/web/20230224123741/https://rm.wikipedia.org/\n",
            "//web.archive.org/web/20230224123741/https://rue.wikipedia.org/\n",
            "//web.archive.org/web/20230224123741/https://sm.wikipedia.org/\n",
            "//web.archive.org/web/20230224123741/https://sat.wikipedia.org/\n",
            "//web.archive.org/web/20230224123741/https://sc.wikipedia.org/\n",
            "//web.archive.org/web/20230224123741/https://trv.wikipedia.org/\n",
            "//web.archive.org/web/20230224123741/https://stq.wikipedia.org/\n",
            "//web.archive.org/web/20230224123741/https://nso.wikipedia.org/\n",
            "//web.archive.org/web/20230224123741/https://tn.wikipedia.org/\n",
            "//web.archive.org/web/20230224123741/https://cu.wikipedia.org/\n",
            "//web.archive.org/web/20230224123741/https://so.wikipedia.org/\n",
            "//web.archive.org/web/20230224123741/https://srn.wikipedia.org/\n",
            "//web.archive.org/web/20230224123741/https://kab.wikipedia.org/\n",
            "//web.archive.org/web/20230224123741/https://roa-tara.wikipedia.org/\n",
            "//web.archive.org/web/20230224123741/https://tet.wikipedia.org/\n",
            "//web.archive.org/web/20230224123741/https://tpi.wikipedia.org/\n",
            "//web.archive.org/web/20230224123741/https://to.wikipedia.org/\n",
            "//web.archive.org/web/20230224123741/https://chr.wikipedia.org/\n",
            "//web.archive.org/web/20230224123741/https://tum.wikipedia.org/\n",
            "//web.archive.org/web/20230224123741/https://tk.wikipedia.org/\n",
            "//web.archive.org/web/20230224123741/https://tyv.wikipedia.org/\n",
            "//web.archive.org/web/20230224123741/https://udm.wikipedia.org/\n",
            "//web.archive.org/web/20230224123741/https://ug.wikipedia.org/\n",
            "//web.archive.org/web/20230224123741/https://vep.wikipedia.org/\n",
            "//web.archive.org/web/20230224123741/https://fiu-vro.wikipedia.org/\n",
            "//web.archive.org/web/20230224123741/https://vls.wikipedia.org/\n",
            "//web.archive.org/web/20230224123741/https://wo.wikipedia.org/\n",
            "//web.archive.org/web/20230224123741/https://xh.wikipedia.org/\n",
            "//web.archive.org/web/20230224123741/https://zea.wikipedia.org/\n",
            "//web.archive.org/web/20230224123741/https://ty.wikipedia.org/\n",
            "//web.archive.org/web/20230224123741/https://ak.wikipedia.org/\n",
            "//web.archive.org/web/20230224123741/https://bm.wikipedia.org/\n",
            "//web.archive.org/web/20230224123741/https://ch.wikipedia.org/\n",
            "//web.archive.org/web/20230224123741/https://ny.wikipedia.org/\n",
            "//web.archive.org/web/20230224123741/https://ee.wikipedia.org/\n",
            "//web.archive.org/web/20230224123741/https://ff.wikipedia.org/\n",
            "//web.archive.org/web/20230224123741/https://got.wikipedia.org/\n",
            "//web.archive.org/web/20230224123741/https://iu.wikipedia.org/\n",
            "//web.archive.org/web/20230224123741/https://ik.wikipedia.org/\n",
            "//web.archive.org/web/20230224123741/https://kl.wikipedia.org/\n",
            "//web.archive.org/web/20230224123741/https://mad.wikipedia.org/\n",
            "//web.archive.org/web/20230224123741/https://cr.wikipedia.org/\n",
            "//web.archive.org/web/20230224123741/https://pih.wikipedia.org/\n",
            "//web.archive.org/web/20230224123741/https://ami.wikipedia.org/\n",
            "//web.archive.org/web/20230224123741/https://pwn.wikipedia.org/\n",
            "//web.archive.org/web/20230224123741/https://pnt.wikipedia.org/\n",
            "//web.archive.org/web/20230224123741/https://dz.wikipedia.org/\n",
            "//web.archive.org/web/20230224123741/https://rmy.wikipedia.org/\n",
            "//web.archive.org/web/20230224123741/https://rn.wikipedia.org/\n",
            "//web.archive.org/web/20230224123741/https://sg.wikipedia.org/\n",
            "//web.archive.org/web/20230224123741/https://st.wikipedia.org/\n",
            "//web.archive.org/web/20230224123741/https://ss.wikipedia.org/\n",
            "//web.archive.org/web/20230224123741/https://ti.wikipedia.org/\n",
            "//web.archive.org/web/20230224123741/https://din.wikipedia.org/\n",
            "//web.archive.org/web/20230224123741/https://chy.wikipedia.org/\n",
            "//web.archive.org/web/20230224123741/https://ts.wikipedia.org/\n",
            "//web.archive.org/web/20230224123741/https://kcg.wikipedia.org/\n",
            "//web.archive.org/web/20230224123741/https://ve.wikipedia.org/\n",
            "https://web.archive.org/web/20230224123741/https://meta.wikimedia.org/wiki/Special:MyLanguage/List_of_Wikipedias\n",
            "https://web.archive.org/web/20230224123741/https://donate.wikimedia.org/?utm_medium=portal&utm_campaign=portalFooter&utm_source=portalFooter\n",
            "https://web.archive.org/web/20230224123741/https://en.wikipedia.org/wiki/List_of_Wikipedia_mobile_applications\n",
            "https://web.archive.org/web/20230224123741/https://play.google.com/store/apps/details?id=org.wikipedia&referrer=utm_source%3Dportal%26utm_medium%3Dbutton%26anid%3Dadmob\n",
            "https://web.archive.org/web/20230224123741/https://itunes.apple.com/app/apple-store/id324715238?pt=208305&ct=portal&mt=8\n",
            "//web.archive.org/web/20230224123741/https://commons.wikimedia.org/\n",
            "//web.archive.org/web/20230224123741/https://www.wikivoyage.org/\n",
            "//web.archive.org/web/20230224123741/https://www.wiktionary.org/\n",
            "//web.archive.org/web/20230224123741/https://www.wikibooks.org/\n",
            "//web.archive.org/web/20230224123741/https://www.wikinews.org/\n",
            "//web.archive.org/web/20230224123741/https://www.wikidata.org/\n",
            "//web.archive.org/web/20230224123741/https://www.wikiversity.org/\n",
            "//web.archive.org/web/20230224123741/https://www.wikiquote.org/\n",
            "//web.archive.org/web/20230224123741/https://www.mediawiki.org/\n",
            "//web.archive.org/web/20230224123741/https://www.wikisource.org/\n",
            "//web.archive.org/web/20230224123741/https://species.wikimedia.org/\n",
            "//web.archive.org/web/20230224123741/https://meta.wikimedia.org/\n",
            "https://web.archive.org/web/20230224123741/https://creativecommons.org/licenses/by-sa/3.0/\n",
            "https://web.archive.org/web/20230224123741/https://meta.wikimedia.org/wiki/Terms_of_use\n",
            "https://web.archive.org/web/20230224123741/https://meta.wikimedia.org/wiki/Privacy_policy\n"
          ]
        }
      ]
    },
    {
      "cell_type": "markdown",
      "source": [
        "En este caso, el código encuentra todos los enlaces <**a**> en la página web de Wikipedia y luego imprime los valores del atributo href (es decir, las URL) 🌍.\n",
        "\n",
        "¡Así podemos empezar a raspar los enlaces de cualquier página web! 😊"
      ],
      "metadata": {
        "id": "sVUL8wYIv4B4"
      }
    },
    {
      "cell_type": "markdown",
      "source": [
        "**Raspar todas las etiquetas de imágenes** 🖼️\n",
        "\n",
        "Primero, seguimos el mismo procedimiento para obtener el contenido de la página y luego podemos raspar todas las imágenes de la siguiente manera:"
      ],
      "metadata": {
        "id": "DUEtquRLwMPb"
      }
    },
    {
      "cell_type": "code",
      "source": [
        "url = \"https://web.archive.org/web/20230224123642/https://www.wikipedia.org/\"\n",
        "data = requests.get(url).text\n",
        "soup = BeautifulSoup(data, \"html.parser\")  # Creamos el objeto BeautifulSoup\n",
        "\n",
        "# Raspar todas las imágenes <img>\n",
        "images = soup.find_all(\"img\")  # Encontrar todas las etiquetas <img> en la página\n",
        "\n",
        "# Mostrar los enlaces a las imágenes\n",
        "for img in images:\n",
        "    img_url = img.get('src')  # Obtener el atributo 'src' de cada imagen\n",
        "    if img_url:\n",
        "        print(img_url)  # Imprimir la URL de la imagen 🖼️"
      ],
      "metadata": {
        "colab": {
          "base_uri": "https://localhost:8080/"
        },
        "id": "aDkaIo9NwQHW",
        "outputId": "e50e609b-7df8-4b6b-bbdb-65f671c2a3d0"
      },
      "execution_count": null,
      "outputs": [
        {
          "output_type": "stream",
          "name": "stdout",
          "text": [
            "/web/20230224123741im_/https://www.wikipedia.org/portal/wikipedia.org/assets/img/Wikipedia-logo-v2.png\n"
          ]
        }
      ]
    },
    {
      "cell_type": "markdown",
      "source": [
        "Este código te permitirá raspar y visualizar todas las imágenes de la página de Wikipedia, cambiando la URL por cualquier página que desees. 🌐🖼️\n",
        "\n",
        "**soup.find_all(\"img\")** encuentra todas las etiquetas <**img**> en la página.\n",
        "\n",
        "**img.get('src')** obtiene la URL de la imagen almacenada en el atributo src.\n",
        "\n",
        "Se imprimen todas las URL de las imágenes encontradas en la página web.\n"
      ],
      "metadata": {
        "id": "V1UqsIfnwW2S"
      }
    },
    {
      "cell_type": "markdown",
      "source": [
        "## **Raspar datos de tablas HTML** 🌈"
      ],
      "metadata": {
        "id": "ojH5RIsJwo-c"
      }
    },
    {
      "cell_type": "markdown",
      "source": [
        "🔍 **Exploración de datos desde tablas HTML con Python**\n",
        "\n",
        "Antes de sumergirte en la extracción de datos de un sitio web, es crucial que investigues cómo están organizados los datos en la página. En este caso, trabajarás con una tabla HTML que contiene información sobre datos de \"Contactos\" y \"Países\"."
      ],
      "metadata": {
        "id": "b_JHdo1ZaGZ_"
      }
    },
    {
      "cell_type": "code",
      "source": [
        "# Importa las bibliotecas necesarias\n",
        "import requests  # Para realizar solicitudes HTTP\n",
        "from bs4 import BeautifulSoup  # Para analizar y procesar contenido HTML\n",
        "\n",
        "# Nueva URL del sitio web con la tabla HTML\n",
        "url = \"https://www.w3schools.com/html/html_tables.asp\"\n",
        "\n",
        "# Realiza la solicitud para obtener el contenido del sitio web\n",
        "data = requests.get(url).text  # Obtén el contenido en formato de texto\n",
        "\n",
        "# Usa BeautifulSoup para analizar el contenido HTML\n",
        "soup = BeautifulSoup(data, \"html.parser\")\n",
        "\n",
        "# Encuentra la tabla HTML en la página\n",
        "# En este caso, la tabla tiene un atributo 'id' llamado \"customers\"\n",
        "table = soup.find('table', {'id': 'customers'})\n",
        "\n",
        "# Extrae filas de la tabla (etiqueta <tr>)\n",
        "rows = table.find_all('tr')  # Encuentra todas las filas de la tabla\n",
        "print(f\"Se encontraron {len(rows)} filas en la tabla.\")\n",
        "\n",
        "# Ahora, vamos a explorar las columnas de cada fila\n",
        "for i, row in enumerate(rows):\n",
        "    columns = row.find_all(['td', 'th'])  # Extrae datos de columnas (celdas o encabezados)\n",
        "    column_text = [col.get_text(strip=True) for col in columns]  # Limpia el texto de las celdas\n",
        "    print(f\"Fila {i + 1}: {column_text}\")\n"
      ],
      "metadata": {
        "colab": {
          "base_uri": "https://localhost:8080/"
        },
        "id": "lqqU-us0xXE0",
        "outputId": "ab3de311-270c-40ed-8275-3ff94c676794"
      },
      "execution_count": null,
      "outputs": [
        {
          "output_type": "stream",
          "name": "stdout",
          "text": [
            "Se encontraron 7 filas en la tabla.\n",
            "Fila 1: ['Company', 'Contact', 'Country']\n",
            "Fila 2: ['Alfreds Futterkiste', 'Maria Anders', 'Germany']\n",
            "Fila 3: ['Centro comercial Moctezuma', 'Francisco Chang', 'Mexico']\n",
            "Fila 4: ['Ernst Handel', 'Roland Mendel', 'Austria']\n",
            "Fila 5: ['Island Trading', 'Helen Bennett', 'UK']\n",
            "Fila 6: ['Laughing Bacchus Winecellars', 'Yoshi Tannamuri', 'Canada']\n",
            "Fila 7: ['Magazzini Alimentari Riuniti', 'Giovanni Rovelli', 'Italy']\n"
          ]
        }
      ]
    },
    {
      "cell_type": "markdown",
      "source": [
        "##📚 **Extracción de datos de tablas HTML a un DataFrame en Python usando BeautifulSoup**\n",
        "Vas a trabajar con la página de Wikipedia sobre la población mundial. Este sitio contiene varias tablas, y tu tarea será identificar y extraer la tabla que muestra los \"10 países más densamente poblados\". Luego, convertirás estos datos en un DataFrame de Pandas para analizarlos."
      ],
      "metadata": {
        "id": "NP__ondQ288f"
      }
    },
    {
      "cell_type": "markdown",
      "source": [
        "🚀 **1. Importar las bibliotecas necesarias**\n",
        "\n",
        "Para empezar, necesitas las bibliotecas que faciliten la conexión y el manejo de los datos."
      ],
      "metadata": {
        "id": "m4SRO6RJcVDg"
      }
    },
    {
      "cell_type": "code",
      "source": [
        "# Importar las bibliotecas necesarias\n",
        "import requests  # Para realizar solicitudes HTTP\n",
        "from bs4 import BeautifulSoup  # Para analizar y procesar contenido HTML\n",
        "import pandas as pd  # Para manejar datos tabulares y crear DataFrames"
      ],
      "metadata": {
        "id": "QDQWuaGvcbTr"
      },
      "execution_count": null,
      "outputs": []
    },
    {
      "cell_type": "markdown",
      "source": [
        "📌 **Nota:** Asegúrese de tener instaladas estas bibliotecas antes de continuar. Puedes hacerlo ejecutando:"
      ],
      "metadata": {
        "id": "JYmwmExzcgI8"
      }
    },
    {
      "cell_type": "code",
      "source": [
        "# pip install requests beautifulsoup4 pandas"
      ],
      "metadata": {
        "id": "LWJwoynWclzC"
      },
      "execution_count": null,
      "outputs": []
    },
    {
      "cell_type": "markdown",
      "source": [
        "🌐 **2. Obtener el contenido de la página web**\n",
        "\n",
        "Usa la biblioteca requests para descargar el contenido HTML de la página web."
      ],
      "metadata": {
        "id": "46AhdeVecoTx"
      }
    },
    {
      "cell_type": "code",
      "source": [
        "# URL de la página web con las tablas HTML\n",
        "url = \"https://en.wikipedia.org/wiki/World_population\"\n",
        "\n",
        "# Descargar el contenido de la página\n",
        "data = requests.get(url).text  # Obtiene el contenido en formato de texto"
      ],
      "metadata": {
        "id": "I5oW2KCZcwJK"
      },
      "execution_count": null,
      "outputs": []
    },
    {
      "cell_type": "markdown",
      "source": [
        "🔎 ***¿Qué hace este paso?***\n",
        "\n",
        "Se conecta a la URL proporcionada y guarda el contenido HTML como una cadena de texto en la variable data."
      ],
      "metadata": {
        "id": "pw0cxLeWczkh"
      }
    },
    {
      "cell_type": "markdown",
      "source": [
        "🧹 **3. Analizar el contenido HTML**\n",
        "\n",
        "Con BeautifulSoup, transformamos el texto HTML en una estructura que podemos explorar fácilmente."
      ],
      "metadata": {
        "id": "-iKdI-7dc263"
      }
    },
    {
      "cell_type": "code",
      "source": [
        "# Analizar el contenido HTML\n",
        "soup = BeautifulSoup(data, \"html.parser\")  # Convierte el HTML en un objeto manejable"
      ],
      "metadata": {
        "id": "7svmfrvTdAIm"
      },
      "execution_count": null,
      "outputs": []
    },
    {
      "cell_type": "markdown",
      "source": [
        "💡 ***¿Por qué usar BeautifulSoup?***\n",
        "\n",
        "¿Te permite buscar elementos específicos (como tablas, encabezados o párrafos) dentro del contenido HTML de forma sencilla."
      ],
      "metadata": {
        "id": "y4ra7CBodDgp"
      }
    },
    {
      "cell_type": "markdown",
      "source": [
        "🕵️‍♂️ **4. Encontrar todas las tablas**\n",
        "\n",
        "Ahora identificaremos todas las tablas presentes en la página web."
      ],
      "metadata": {
        "id": "-8wfzVWJdJtS"
      }
    },
    {
      "cell_type": "code",
      "source": [
        "# Encontrar todas las tablas en el contenido HTML\n",
        "tables = soup.find_all('table')  # Busca todas las etiquetas <table>\n",
        "print(f\"Se encontraron {len(tables)} tablas en la página.\")  # Ver cuántas tablas hay"
      ],
      "metadata": {
        "colab": {
          "base_uri": "https://localhost:8080/"
        },
        "id": "02qDkvaTdQsK",
        "outputId": "f3dcb51c-1528-4e15-bdfd-053b4ee45743"
      },
      "execution_count": null,
      "outputs": [
        {
          "output_type": "stream",
          "name": "stdout",
          "text": [
            "Se encontraron 31 tablas en la página.\n"
          ]
        }
      ]
    },
    {
      "cell_type": "markdown",
      "source": [
        "🔎 ***¿Qué hace este paso?***\n",
        "\n",
        "Busque todas las etiquetas <**table**> en el HTML, que representan tablas. El resultado es una lista de tablas."
      ],
      "metadata": {
        "id": "WwkmTaYPdQJ-"
      }
    },
    {
      "cell_type": "markdown",
      "source": [
        "🔍 **5. Identificar la tabla específica**\n",
        "\n",
        "Recorremos la lista de tablas para encontrar la que contiene los datos de \"10 países más densamente poblados\"."
      ],
      "metadata": {
        "id": "8UwCNyPSddNa"
      }
    },
    {
      "cell_type": "code",
      "source": [
        "# Buscar la tabla específica\n",
        "for index, table in enumerate(tables):  # Itera por las tablas con su índice\n",
        "    if \"10 most densely populated countries\" in str(table):  # Busca palabras clave\n",
        "        table_index = index  # Guarda el índice de la tabla deseada\n",
        "        break  # Detiene el bucle una vez encontrada\n",
        "print(f\"La tabla deseada está en el índice: {table_index}\")  # 🔢 Muestra el índice\n"
      ],
      "metadata": {
        "colab": {
          "base_uri": "https://localhost:8080/"
        },
        "id": "VeFgSG801cq_",
        "outputId": "08bf4da1-84e4-43cf-82ec-5dadd5046fb7"
      },
      "execution_count": null,
      "outputs": [
        {
          "output_type": "stream",
          "name": "stdout",
          "text": [
            "La tabla deseada está en el índice: 8\n"
          ]
        }
      ]
    },
    {
      "cell_type": "markdown",
      "source": [
        "💡 **Consejo:** Este método es útil si no conoces el ID o clase de la tabla, pero tienes una idea de su contenido.\n",
        "\n",
        "\n",
        "\n",
        "\n",
        "\n"
      ],
      "metadata": {
        "id": "OaeQ5bGP3H6D"
      }
    },
    {
      "cell_type": "markdown",
      "source": [
        "👀 **6. Visualizar el contenido de la tabla**\n",
        "\n",
        "Usa prettify() para mostrar la tabla en un formato más legible y verificar su contenido."
      ],
      "metadata": {
        "id": "Cy3sqMo-du_7"
      }
    },
    {
      "cell_type": "code",
      "source": [
        "# Mostrar la tabla seleccionada en formato legible\n",
        "print(tables[table_index].prettify())  # Visualiza la estructura de la tabla"
      ],
      "metadata": {
        "colab": {
          "base_uri": "https://localhost:8080/"
        },
        "id": "R4kgUt8jd0fu",
        "outputId": "8994620f-43ee-431c-b61b-2f3fe4587420"
      },
      "execution_count": null,
      "outputs": [
        {
          "output_type": "stream",
          "name": "stdout",
          "text": [
            "<table class=\"wikitable sortable\" style=\"text-align:right\">\n",
            " <caption>\n",
            "  10 most densely populated countries\n",
            "  <small>\n",
            "   (with population above 5 million)\n",
            "  </small>\n",
            "  <sup class=\"reference\" id=\"cite_ref-:10_104-0\">\n",
            "   <a href=\"#cite_note-:10-104\">\n",
            "    <span class=\"cite-bracket\">\n",
            "     [\n",
            "    </span>\n",
            "    99\n",
            "    <span class=\"cite-bracket\">\n",
            "     ]\n",
            "    </span>\n",
            "   </a>\n",
            "  </sup>\n",
            " </caption>\n",
            " <tbody>\n",
            "  <tr>\n",
            "   <th scope=\"col\">\n",
            "    Rank\n",
            "   </th>\n",
            "   <th scope=\"col\">\n",
            "    Country\n",
            "   </th>\n",
            "   <th scope=\"col\">\n",
            "    Population\n",
            "   </th>\n",
            "   <th scope=\"col\">\n",
            "    Area\n",
            "    <br/>\n",
            "    <small>\n",
            "     (km\n",
            "     <sup>\n",
            "      2\n",
            "     </sup>\n",
            "     )\n",
            "    </small>\n",
            "   </th>\n",
            "   <th scope=\"col\">\n",
            "    Density\n",
            "    <br/>\n",
            "    <small>\n",
            "     (pop/km\n",
            "     <sup>\n",
            "      2\n",
            "     </sup>\n",
            "     )\n",
            "    </small>\n",
            "   </th>\n",
            "  </tr>\n",
            "  <tr>\n",
            "   <td>\n",
            "    1\n",
            "   </td>\n",
            "   <td align=\"left\">\n",
            "    <span class=\"flagicon\">\n",
            "     <span class=\"mw-image-border\" typeof=\"mw:File\">\n",
            "      <span>\n",
            "       <img alt=\"\" class=\"mw-file-element\" data-file-height=\"600\" data-file-width=\"900\" decoding=\"async\" height=\"15\" src=\"//upload.wikimedia.org/wikipedia/commons/thumb/4/48/Flag_of_Singapore.svg/23px-Flag_of_Singapore.svg.png\" srcset=\"//upload.wikimedia.org/wikipedia/commons/thumb/4/48/Flag_of_Singapore.svg/35px-Flag_of_Singapore.svg.png 1.5x, //upload.wikimedia.org/wikipedia/commons/thumb/4/48/Flag_of_Singapore.svg/45px-Flag_of_Singapore.svg.png 2x\" width=\"23\"/>\n",
            "      </span>\n",
            "     </span>\n",
            "    </span>\n",
            "    <a href=\"/wiki/Singapore\" title=\"Singapore\">\n",
            "     Singapore\n",
            "    </a>\n",
            "   </td>\n",
            "   <td>\n",
            "    5,921,231\n",
            "   </td>\n",
            "   <td>\n",
            "    719\n",
            "   </td>\n",
            "   <td>\n",
            "    8,235\n",
            "   </td>\n",
            "  </tr>\n",
            "  <tr>\n",
            "   <td>\n",
            "    2\n",
            "   </td>\n",
            "   <td align=\"left\">\n",
            "    <span class=\"flagicon\">\n",
            "     <span class=\"mw-image-border\" typeof=\"mw:File\">\n",
            "      <span>\n",
            "       <img alt=\"\" class=\"mw-file-element\" data-file-height=\"600\" data-file-width=\"1000\" decoding=\"async\" height=\"14\" src=\"//upload.wikimedia.org/wikipedia/commons/thumb/f/f9/Flag_of_Bangladesh.svg/23px-Flag_of_Bangladesh.svg.png\" srcset=\"//upload.wikimedia.org/wikipedia/commons/thumb/f/f9/Flag_of_Bangladesh.svg/35px-Flag_of_Bangladesh.svg.png 1.5x, //upload.wikimedia.org/wikipedia/commons/thumb/f/f9/Flag_of_Bangladesh.svg/46px-Flag_of_Bangladesh.svg.png 2x\" width=\"23\"/>\n",
            "      </span>\n",
            "     </span>\n",
            "    </span>\n",
            "    <a href=\"/wiki/Bangladesh\" title=\"Bangladesh\">\n",
            "     Bangladesh\n",
            "    </a>\n",
            "   </td>\n",
            "   <td>\n",
            "    165,650,475\n",
            "   </td>\n",
            "   <td>\n",
            "    148,460\n",
            "   </td>\n",
            "   <td>\n",
            "    1,116\n",
            "   </td>\n",
            "  </tr>\n",
            "  <tr>\n",
            "   <td>\n",
            "    3\n",
            "   </td>\n",
            "   <td align=\"left\">\n",
            "    <p>\n",
            "     <span class=\"flagicon\">\n",
            "      <span class=\"mw-image-border\" typeof=\"mw:File\">\n",
            "       <span>\n",
            "        <img alt=\"\" class=\"mw-file-element\" data-file-height=\"600\" data-file-width=\"1200\" decoding=\"async\" height=\"12\" src=\"//upload.wikimedia.org/wikipedia/commons/thumb/0/00/Flag_of_Palestine.svg/23px-Flag_of_Palestine.svg.png\" srcset=\"//upload.wikimedia.org/wikipedia/commons/thumb/0/00/Flag_of_Palestine.svg/35px-Flag_of_Palestine.svg.png 1.5x, //upload.wikimedia.org/wikipedia/commons/thumb/0/00/Flag_of_Palestine.svg/46px-Flag_of_Palestine.svg.png 2x\" width=\"23\"/>\n",
            "       </span>\n",
            "      </span>\n",
            "     </span>\n",
            "     <a href=\"/wiki/State_of_Palestine\" title=\"State of Palestine\">\n",
            "      Palestine\n",
            "     </a>\n",
            "     <sup class=\"reference\" id=\"cite_ref-105\">\n",
            "      <a href=\"#cite_note-105\">\n",
            "       <span class=\"cite-bracket\">\n",
            "        [\n",
            "       </span>\n",
            "       note 3\n",
            "       <span class=\"cite-bracket\">\n",
            "        ]\n",
            "       </span>\n",
            "      </a>\n",
            "     </sup>\n",
            "     <sup class=\"reference\" id=\"cite_ref-106\">\n",
            "      <a href=\"#cite_note-106\">\n",
            "       <span class=\"cite-bracket\">\n",
            "        [\n",
            "       </span>\n",
            "       100\n",
            "       <span class=\"cite-bracket\">\n",
            "        ]\n",
            "       </span>\n",
            "      </a>\n",
            "     </sup>\n",
            "    </p>\n",
            "   </td>\n",
            "   <td>\n",
            "    5,223,000\n",
            "   </td>\n",
            "   <td>\n",
            "    6,025\n",
            "   </td>\n",
            "   <td>\n",
            "    867\n",
            "   </td>\n",
            "  </tr>\n",
            "  <tr>\n",
            "   <td>\n",
            "    4\n",
            "   </td>\n",
            "   <td align=\"left\">\n",
            "    <span class=\"flagicon\">\n",
            "     <span class=\"mw-image-border\" typeof=\"mw:File\">\n",
            "      <span>\n",
            "       <img alt=\"\" class=\"mw-file-element\" data-file-height=\"600\" data-file-width=\"900\" decoding=\"async\" height=\"15\" src=\"//upload.wikimedia.org/wikipedia/commons/thumb/7/72/Flag_of_the_Republic_of_China.svg/23px-Flag_of_the_Republic_of_China.svg.png\" srcset=\"//upload.wikimedia.org/wikipedia/commons/thumb/7/72/Flag_of_the_Republic_of_China.svg/35px-Flag_of_the_Republic_of_China.svg.png 1.5x, //upload.wikimedia.org/wikipedia/commons/thumb/7/72/Flag_of_the_Republic_of_China.svg/45px-Flag_of_the_Republic_of_China.svg.png 2x\" width=\"23\"/>\n",
            "      </span>\n",
            "     </span>\n",
            "    </span>\n",
            "    <a href=\"/wiki/Taiwan\" title=\"Taiwan\">\n",
            "     Taiwan\n",
            "    </a>\n",
            "    <sup class=\"reference\" id=\"cite_ref-107\">\n",
            "     <a href=\"#cite_note-107\">\n",
            "      <span class=\"cite-bracket\">\n",
            "       [\n",
            "      </span>\n",
            "      note 4\n",
            "      <span class=\"cite-bracket\">\n",
            "       ]\n",
            "      </span>\n",
            "     </a>\n",
            "    </sup>\n",
            "   </td>\n",
            "   <td>\n",
            "    23,580,712\n",
            "   </td>\n",
            "   <td>\n",
            "    35,980\n",
            "   </td>\n",
            "   <td>\n",
            "    655\n",
            "   </td>\n",
            "  </tr>\n",
            "  <tr>\n",
            "   <td>\n",
            "    5\n",
            "   </td>\n",
            "   <td align=\"left\">\n",
            "    <span class=\"flagicon\">\n",
            "     <span class=\"mw-image-border\" typeof=\"mw:File\">\n",
            "      <span>\n",
            "       <img alt=\"\" class=\"mw-file-element\" data-file-height=\"600\" data-file-width=\"900\" decoding=\"async\" height=\"15\" src=\"//upload.wikimedia.org/wikipedia/commons/thumb/0/09/Flag_of_South_Korea.svg/23px-Flag_of_South_Korea.svg.png\" srcset=\"//upload.wikimedia.org/wikipedia/commons/thumb/0/09/Flag_of_South_Korea.svg/35px-Flag_of_South_Korea.svg.png 1.5x, //upload.wikimedia.org/wikipedia/commons/thumb/0/09/Flag_of_South_Korea.svg/45px-Flag_of_South_Korea.svg.png 2x\" width=\"23\"/>\n",
            "      </span>\n",
            "     </span>\n",
            "    </span>\n",
            "    <a href=\"/wiki/South_Korea\" title=\"South Korea\">\n",
            "     South Korea\n",
            "    </a>\n",
            "   </td>\n",
            "   <td>\n",
            "    51,844,834\n",
            "   </td>\n",
            "   <td>\n",
            "    99,720\n",
            "   </td>\n",
            "   <td>\n",
            "    520\n",
            "   </td>\n",
            "  </tr>\n",
            "  <tr>\n",
            "   <td>\n",
            "    6\n",
            "   </td>\n",
            "   <td align=\"left\">\n",
            "    <span class=\"flagicon\">\n",
            "     <span class=\"mw-image-border\" typeof=\"mw:File\">\n",
            "      <span>\n",
            "       <img alt=\"\" class=\"mw-file-element\" data-file-height=\"600\" data-file-width=\"900\" decoding=\"async\" height=\"15\" src=\"//upload.wikimedia.org/wikipedia/commons/thumb/5/59/Flag_of_Lebanon.svg/23px-Flag_of_Lebanon.svg.png\" srcset=\"//upload.wikimedia.org/wikipedia/commons/thumb/5/59/Flag_of_Lebanon.svg/35px-Flag_of_Lebanon.svg.png 1.5x, //upload.wikimedia.org/wikipedia/commons/thumb/5/59/Flag_of_Lebanon.svg/45px-Flag_of_Lebanon.svg.png 2x\" width=\"23\"/>\n",
            "      </span>\n",
            "     </span>\n",
            "    </span>\n",
            "    <a href=\"/wiki/Lebanon\" title=\"Lebanon\">\n",
            "     Lebanon\n",
            "    </a>\n",
            "   </td>\n",
            "   <td>\n",
            "    5,296,814\n",
            "   </td>\n",
            "   <td>\n",
            "    10,400\n",
            "   </td>\n",
            "   <td>\n",
            "    509\n",
            "   </td>\n",
            "  </tr>\n",
            "  <tr>\n",
            "   <td>\n",
            "    7\n",
            "   </td>\n",
            "   <td align=\"left\">\n",
            "    <span class=\"flagicon\">\n",
            "     <span class=\"mw-image-border\" typeof=\"mw:File\">\n",
            "      <span>\n",
            "       <img alt=\"\" class=\"mw-file-element\" data-file-height=\"600\" data-file-width=\"900\" decoding=\"async\" height=\"15\" src=\"//upload.wikimedia.org/wikipedia/commons/thumb/1/17/Flag_of_Rwanda.svg/23px-Flag_of_Rwanda.svg.png\" srcset=\"//upload.wikimedia.org/wikipedia/commons/thumb/1/17/Flag_of_Rwanda.svg/35px-Flag_of_Rwanda.svg.png 1.5x, //upload.wikimedia.org/wikipedia/commons/thumb/1/17/Flag_of_Rwanda.svg/45px-Flag_of_Rwanda.svg.png 2x\" width=\"23\"/>\n",
            "      </span>\n",
            "     </span>\n",
            "    </span>\n",
            "    <a href=\"/wiki/Rwanda\" title=\"Rwanda\">\n",
            "     Rwanda\n",
            "    </a>\n",
            "   </td>\n",
            "   <td>\n",
            "    13,173,730\n",
            "   </td>\n",
            "   <td>\n",
            "    26,338\n",
            "   </td>\n",
            "   <td>\n",
            "    500\n",
            "   </td>\n",
            "  </tr>\n",
            "  <tr>\n",
            "   <td>\n",
            "    8\n",
            "   </td>\n",
            "   <td align=\"left\">\n",
            "    <span class=\"flagicon\">\n",
            "     <span class=\"mw-image-border\" typeof=\"mw:File\">\n",
            "      <span>\n",
            "       <img alt=\"\" class=\"mw-file-element\" data-file-height=\"600\" data-file-width=\"1000\" decoding=\"async\" height=\"14\" src=\"//upload.wikimedia.org/wikipedia/commons/thumb/5/50/Flag_of_Burundi.svg/23px-Flag_of_Burundi.svg.png\" srcset=\"//upload.wikimedia.org/wikipedia/commons/thumb/5/50/Flag_of_Burundi.svg/35px-Flag_of_Burundi.svg.png 1.5x, //upload.wikimedia.org/wikipedia/commons/thumb/5/50/Flag_of_Burundi.svg/46px-Flag_of_Burundi.svg.png 2x\" width=\"23\"/>\n",
            "      </span>\n",
            "     </span>\n",
            "    </span>\n",
            "    <a href=\"/wiki/Burundi\" title=\"Burundi\">\n",
            "     Burundi\n",
            "    </a>\n",
            "   </td>\n",
            "   <td>\n",
            "    12,696,478\n",
            "   </td>\n",
            "   <td>\n",
            "    27,830\n",
            "   </td>\n",
            "   <td>\n",
            "    456\n",
            "   </td>\n",
            "  </tr>\n",
            "  <tr>\n",
            "   <td>\n",
            "    9\n",
            "   </td>\n",
            "   <td align=\"left\">\n",
            "    <span class=\"flagicon\">\n",
            "     <span class=\"mw-image-border\" typeof=\"mw:File\">\n",
            "      <span>\n",
            "       <img alt=\"\" class=\"mw-file-element\" data-file-height=\"800\" data-file-width=\"1100\" decoding=\"async\" height=\"15\" src=\"//upload.wikimedia.org/wikipedia/commons/thumb/d/d4/Flag_of_Israel.svg/21px-Flag_of_Israel.svg.png\" srcset=\"//upload.wikimedia.org/wikipedia/commons/thumb/d/d4/Flag_of_Israel.svg/32px-Flag_of_Israel.svg.png 1.5x, //upload.wikimedia.org/wikipedia/commons/thumb/d/d4/Flag_of_Israel.svg/41px-Flag_of_Israel.svg.png 2x\" width=\"21\"/>\n",
            "      </span>\n",
            "     </span>\n",
            "    </span>\n",
            "    <a href=\"/wiki/Israel\" title=\"Israel\">\n",
            "     Israel\n",
            "    </a>\n",
            "   </td>\n",
            "   <td>\n",
            "    9,402,617\n",
            "   </td>\n",
            "   <td>\n",
            "    21,937\n",
            "   </td>\n",
            "   <td>\n",
            "    429\n",
            "   </td>\n",
            "  </tr>\n",
            "  <tr>\n",
            "   <td>\n",
            "    10\n",
            "   </td>\n",
            "   <td align=\"left\">\n",
            "    <span class=\"flagicon\">\n",
            "     <span class=\"mw-image-border\" typeof=\"mw:File\">\n",
            "      <span>\n",
            "       <img alt=\"\" class=\"mw-file-element\" data-file-height=\"600\" data-file-width=\"900\" decoding=\"async\" height=\"15\" src=\"//upload.wikimedia.org/wikipedia/en/thumb/4/41/Flag_of_India.svg/23px-Flag_of_India.svg.png\" srcset=\"//upload.wikimedia.org/wikipedia/en/thumb/4/41/Flag_of_India.svg/35px-Flag_of_India.svg.png 1.5x, //upload.wikimedia.org/wikipedia/en/thumb/4/41/Flag_of_India.svg/45px-Flag_of_India.svg.png 2x\" width=\"23\"/>\n",
            "      </span>\n",
            "     </span>\n",
            "    </span>\n",
            "    <a href=\"/wiki/India\" title=\"India\">\n",
            "     India\n",
            "    </a>\n",
            "   </td>\n",
            "   <td>\n",
            "    1,389,637,446\n",
            "   </td>\n",
            "   <td>\n",
            "    3,287,263\n",
            "   </td>\n",
            "   <td>\n",
            "    423\n",
            "   </td>\n",
            "  </tr>\n",
            " </tbody>\n",
            "</table>\n",
            "\n"
          ]
        }
      ]
    },
    {
      "cell_type": "markdown",
      "source": [
        "🔎 ***¿Por qué hacerlo?***\n",
        "Esto te ayuda a confirmar que seleccionaste la tabla correcta antes de procesarla."
      ],
      "metadata": {
        "id": "_ZC1Fh3td5S-"
      }
    },
    {
      "cell_type": "markdown",
      "source": [
        "📊 **7. Convertir la tabla en un DataFrame**\n",
        "\n",
        "Para terminar, utilizamos Pandas para convertir la tabla en un DataFrame"
      ],
      "metadata": {
        "id": "ugebjOJmd9lO"
      }
    },
    {
      "cell_type": "code",
      "source": [
        "# Convertir la tabla a un DataFrame con Pandas\n",
        "dfs = pd.read_html(str(tables[table_index]))  # 📥 Lee la tabla como una lista de DataFrames\n",
        "df = dfs[0]  # Extraer el primer DataFrame de la lista (hay uno solo aquí)\n",
        "\n",
        "# Mostrar los datos en formato tabular\n",
        "print(\"Datos extraídos:\")\n",
        "print(df)  # 🖥️ Muestra el DataFrame"
      ],
      "metadata": {
        "colab": {
          "base_uri": "https://localhost:8080/"
        },
        "id": "nmtaymxAeE7O",
        "outputId": "e46c967e-b7c4-48a7-817c-8f1870f7086c"
      },
      "execution_count": null,
      "outputs": [
        {
          "output_type": "stream",
          "name": "stdout",
          "text": [
            "Datos extraídos:\n",
            "   Rank                 Country  Population  Area (km2)  Density (pop/km2)\n",
            "0     1               Singapore     5921231         719               8235\n",
            "1     2              Bangladesh   165650475      148460               1116\n",
            "2     3  Palestine[note 3][100]     5223000        6025                867\n",
            "3     4          Taiwan[note 4]    23580712       35980                655\n",
            "4     5             South Korea    51844834       99720                520\n",
            "5     6                 Lebanon     5296814       10400                509\n",
            "6     7                  Rwanda    13173730       26338                500\n",
            "7     8                 Burundi    12696478       27830                456\n",
            "8     9                  Israel     9402617       21937                429\n",
            "9    10                   India  1389637446     3287263                423\n"
          ]
        },
        {
          "output_type": "stream",
          "name": "stderr",
          "text": [
            "<ipython-input-145-08623f61419a>:2: FutureWarning: Passing literal html to 'read_html' is deprecated and will be removed in a future version. To read from a literal string, wrap it in a 'StringIO' object.\n",
            "  dfs = pd.read_html(str(tables[table_index]))  # 📥 Lee la tabla como una lista de DataFrames\n"
          ]
        }
      ]
    },
    {
      "cell_type": "markdown",
      "source": [
        "🔧 ***¿Qué hace pd.read_html?***\n",
        "\n",
        "Convierte directamente el contenido HTML en un DataFrame de Pandas, lo que facilita el análisis y la manipulación de datos."
      ],
      "metadata": {
        "id": "ZZWke7LqeI-A"
      }
    },
    {
      "cell_type": "markdown",
      "source": [
        "💾 **8. Guardar y descargar automáticamente el archivo CSV** (opcional)\n",
        "\n",
        "Este código permite guardar el archivo CSV en tu sistema y, si trabajas en un entorno como Google Colab o Jupyter Notebook, facilita su descarga.\n",
        "\n",
        "Puedes guardar los datos extraídos en un archivo CSV para usarlos más adelante."
      ],
      "metadata": {
        "id": "XaHM4UUmePni"
      }
    },
    {
      "cell_type": "code",
      "source": [
        "# Guardar los datos en un archivo CSV\n",
        "file_name = \"10_most_densely_populated_countries.csv\"\n",
        "df.to_csv(file_name, index=False)  # Exporta los datos como un archivo CSV\n",
        "\n",
        "# Descargar automáticamente (funciona en Google Colab y Jupyter Notebook)\n",
        "try:\n",
        "    from google.colab import files  # Para Google Colab\n",
        "    files.download(file_name)  # Descarga el archivo en tu computadora\n",
        "    print(\"Archivo descargado automáticamente en Colab.\")\n",
        "except ImportError:\n",
        "    from IPython.display import FileLink  # Para Jupyter Notebook\n",
        "    display(FileLink(file_name))  # Muestra un enlace de descarga\n",
        "    print(\"Haz clic en el enlace para descargar el archivo.\")"
      ],
      "metadata": {
        "colab": {
          "base_uri": "https://localhost:8080/",
          "height": 34
        },
        "id": "5dCZx9ZvfH2s",
        "outputId": "f1d36e63-461a-4bd9-c3f7-1c03294d2bcf"
      },
      "execution_count": null,
      "outputs": [
        {
          "output_type": "display_data",
          "data": {
            "text/plain": [
              "<IPython.core.display.Javascript object>"
            ],
            "application/javascript": [
              "\n",
              "    async function download(id, filename, size) {\n",
              "      if (!google.colab.kernel.accessAllowed) {\n",
              "        return;\n",
              "      }\n",
              "      const div = document.createElement('div');\n",
              "      const label = document.createElement('label');\n",
              "      label.textContent = `Downloading \"${filename}\": `;\n",
              "      div.appendChild(label);\n",
              "      const progress = document.createElement('progress');\n",
              "      progress.max = size;\n",
              "      div.appendChild(progress);\n",
              "      document.body.appendChild(div);\n",
              "\n",
              "      const buffers = [];\n",
              "      let downloaded = 0;\n",
              "\n",
              "      const channel = await google.colab.kernel.comms.open(id);\n",
              "      // Send a message to notify the kernel that we're ready.\n",
              "      channel.send({})\n",
              "\n",
              "      for await (const message of channel.messages) {\n",
              "        // Send a message to notify the kernel that we're ready.\n",
              "        channel.send({})\n",
              "        if (message.buffers) {\n",
              "          for (const buffer of message.buffers) {\n",
              "            buffers.push(buffer);\n",
              "            downloaded += buffer.byteLength;\n",
              "            progress.value = downloaded;\n",
              "          }\n",
              "        }\n",
              "      }\n",
              "      const blob = new Blob(buffers, {type: 'application/binary'});\n",
              "      const a = document.createElement('a');\n",
              "      a.href = window.URL.createObjectURL(blob);\n",
              "      a.download = filename;\n",
              "      div.appendChild(a);\n",
              "      a.click();\n",
              "      div.remove();\n",
              "    }\n",
              "  "
            ]
          },
          "metadata": {}
        },
        {
          "output_type": "display_data",
          "data": {
            "text/plain": [
              "<IPython.core.display.Javascript object>"
            ],
            "application/javascript": [
              "download(\"download_d594f808-a036-43a2-929e-4f1a903ac382\", \"10_most_densely_populated_countries.csv\", 372)"
            ]
          },
          "metadata": {}
        },
        {
          "output_type": "stream",
          "name": "stdout",
          "text": [
            "Archivo descargado automáticamente en Colab.\n"
          ]
        }
      ]
    },
    {
      "cell_type": "markdown",
      "source": [
        "##🧑‍💻 **Extraer tablas HTML directamente con pd.read_html**"
      ],
      "metadata": {
        "id": "-LgwRJqpfXsU"
      }
    },
    {
      "cell_type": "markdown",
      "source": [
        "🚀 **1. Importar las bibliotecas necesarias**\n",
        "\n",
        "Antes de comenzar, importa las bibliotecas que usarás."
      ],
      "metadata": {
        "id": "CV5wPEEugRCt"
      }
    },
    {
      "cell_type": "code",
      "source": [
        "import pandas as pd  # Para manejar tablas y DataFrames\n"
      ],
      "metadata": {
        "id": "3nofYb2ZgXK4"
      },
      "execution_count": null,
      "outputs": []
    },
    {
      "cell_type": "markdown",
      "source": [
        "🌐 **2. Usar pd.read_htmlpara leer tablas de una URL**\n",
        "\n",
        "Con pd.read_html, puedes extraer directamente todas las tablas de una página web"
      ],
      "metadata": {
        "id": "HGJ0UukkgblH"
      }
    },
    {
      "cell_type": "code",
      "source": [
        "# URL con tablas HTML\n",
        "url = \"https://en.wikipedia.org/wiki/World_population\"\n",
        "\n",
        "# Extraer todas las tablas de la URL como una lista de DataFrames\n",
        "dataframe_list = pd.read_html(url, flavor='bs4')  # Usamos BeautifulSoup como motor de análisis\n",
        "\n",
        "# Mostrar cuántas tablas se encontraron\n",
        "print(f\"Se encontraron {len(dataframe_list)} tablas en la página.\")  # 📊 Número de tablas"
      ],
      "metadata": {
        "colab": {
          "base_uri": "https://localhost:8080/"
        },
        "id": "aG8b8NMAghq4",
        "outputId": "18c69e45-7267-428b-d5a3-78734673eb82"
      },
      "execution_count": null,
      "outputs": [
        {
          "output_type": "stream",
          "name": "stdout",
          "text": [
            "Se encontraron 28 tablas en la página.\n"
          ]
        }
      ]
    },
    {
      "cell_type": "markdown",
      "source": [
        "🔎 ***¿Qué hace este paso?***\n",
        "\n",
        "**pd.read_html:** Detecta automáticamente todas las tablas HTML en la página web.\n",
        "\n",
        "**flavor='bs4':** Especifica que queremos usar BeautifulSoup para analizar el HTML."
      ],
      "metadata": {
        "id": "sHq6CMb1hFXr"
      }
    },
    {
      "cell_type": "markdown",
      "source": [
        "🕵️‍♂️ **3. Explorar las tablas**\n",
        "\n",
        "Puedes visualizar las tablas extraídas iterando sobre la lista dataframe_listo seleccionar una en específico. Por ejemplo:"
      ],
      "metadata": {
        "id": "Rx5-wGFrhONC"
      }
    },
    {
      "cell_type": "code",
      "source": [
        "# Visualizar la tabla número 5 como ejemplo\n",
        "print(\"Vista previa de la tabla número 5:\")\n",
        "print(dataframe_list[5].head())  # Muestra las primeras filas de la tabla"
      ],
      "metadata": {
        "colab": {
          "base_uri": "https://localhost:8080/"
        },
        "id": "BmBEjC9khU0A",
        "outputId": "c364659e-272d-4759-f1c2-aaf91ab7ad46"
      },
      "execution_count": null,
      "outputs": [
        {
          "output_type": "stream",
          "name": "stdout",
          "text": [
            "Vista previa de la tabla número 5:\n",
            "  Country / Dependency  Population % of world         Date  \\\n",
            "0                India  1425775850      17.5%  14 Apr 2023   \n",
            "1                China  1409670000      17.3%  17 Jan 2024   \n",
            "2        United States   337209469      4.14%  27 Nov 2024   \n",
            "3            Indonesia   278696200      3.42%   1 Jul 2023   \n",
            "4             Pakistan   229488994      2.82%   1 Jul 2022   \n",
            "\n",
            "  Source (official or from the United Nations)  \n",
            "0                            UN projection[89]  \n",
            "1                 National annual estimate[90]  \n",
            "2                National population clock[91]  \n",
            "3                 National annual estimate[92]  \n",
            "4                            UN projection[93]  \n"
          ]
        }
      ]
    },
    {
      "cell_type": "markdown",
      "source": [
        "🔧 **Consejo**: Usa dataframe_list[index]para seleccionar cualquier tabla de la lista"
      ],
      "metadata": {
        "id": "hgnABjeJhYaC"
      }
    },
    {
      "cell_type": "markdown",
      "source": [
        "🎯 **4. Selecciona una tabla específica con match**\n",
        "\n",
        "Si conoces el contenido del texto en la tabla que necesitas, el parámetro match facilitará la selección."
      ],
      "metadata": {
        "id": "c9zeLBXLhZIu"
      }
    },
    {
      "cell_type": "code",
      "source": [
        "# Extraer una tabla específica que contiene \"10 most densely populated countries\"\n",
        "specific_table = pd.read_html(url, flavor='bs4', match=\"10 most densely populated countries\")[0]\n",
        "\n",
        "# Mostrar la tabla específica\n",
        "print(\"Tabla seleccionada:\")\n",
        "print(specific_table)"
      ],
      "metadata": {
        "colab": {
          "base_uri": "https://localhost:8080/"
        },
        "id": "GUSlZWYwhge6",
        "outputId": "7a5cec06-9213-4873-a339-5bca5f919299"
      },
      "execution_count": null,
      "outputs": [
        {
          "output_type": "stream",
          "name": "stdout",
          "text": [
            "Tabla seleccionada:\n",
            "   Rank                 Country  Population  Area (km2)  Density (pop/km2)\n",
            "0     1               Singapore     5921231         719               8235\n",
            "1     2              Bangladesh   165650475      148460               1116\n",
            "2     3  Palestine[note 3][100]     5223000        6025                867\n",
            "3     4          Taiwan[note 4]    23580712       35980                655\n",
            "4     5             South Korea    51844834       99720                520\n",
            "5     6                 Lebanon     5296814       10400                509\n",
            "6     7                  Rwanda    13173730       26338                500\n",
            "7     8                 Burundi    12696478       27830                456\n",
            "8     9                  Israel     9402617       21937                429\n",
            "9    10                   India  1389637446     3287263                423\n"
          ]
        }
      ]
    },
    {
      "cell_type": "markdown",
      "source": [
        "💡***¿Cómo funciona match?***\n",
        "\n",
        "Busca automáticamente una tabla que contenga el texto indicado.\n",
        "\n",
        "Devuelve una lista con las tablas coincidentes (aquí seleccionamos la primera [0])."
      ],
      "metadata": {
        "id": "ModkJruShl_k"
      }
    },
    {
      "cell_type": "markdown",
      "source": [
        "💾 **5. Guardar y descargar automáticamente el archivo CSV**(opcional)\n",
        "\n",
        "Para culminar, puedes guardar la tabla seleccionada en un archivo CSV para usarla posteriormente."
      ],
      "metadata": {
        "id": "P80LJuoThsf8"
      }
    },
    {
      "cell_type": "code",
      "source": [
        "# Guardar los datos en un archivo CSV\n",
        "file_name = \"specific_table.csv\"\n",
        "specific_table.to_csv(file_name, index=False)  # Exporta los datos como un archivo CSV\n",
        "\n",
        "# Descargar automáticamente (funciona en Google Colab y Jupyter Notebook)\n",
        "try:\n",
        "    from google.colab import files  # Para Google Colab\n",
        "    files.download(file_name)  # Descarga automática\n",
        "    print(f\"Archivo '{file_name}' descargado automáticamente en Google Colab.\")\n",
        "except ImportError:\n",
        "    from IPython.display import FileLink  # Para Jupyter Notebook\n",
        "    display(FileLink(file_name))  # Muestra un enlace de descarga\n",
        "    print(f\"Archivo '{file_name}' listo para descargar. Haz clic en el enlace.\")\n"
      ],
      "metadata": {
        "colab": {
          "base_uri": "https://localhost:8080/",
          "height": 34
        },
        "id": "nWsKn9SciEXd",
        "outputId": "71761e62-4b1b-4bc5-9879-d08a210d19d8"
      },
      "execution_count": null,
      "outputs": [
        {
          "output_type": "display_data",
          "data": {
            "text/plain": [
              "<IPython.core.display.Javascript object>"
            ],
            "application/javascript": [
              "\n",
              "    async function download(id, filename, size) {\n",
              "      if (!google.colab.kernel.accessAllowed) {\n",
              "        return;\n",
              "      }\n",
              "      const div = document.createElement('div');\n",
              "      const label = document.createElement('label');\n",
              "      label.textContent = `Downloading \"${filename}\": `;\n",
              "      div.appendChild(label);\n",
              "      const progress = document.createElement('progress');\n",
              "      progress.max = size;\n",
              "      div.appendChild(progress);\n",
              "      document.body.appendChild(div);\n",
              "\n",
              "      const buffers = [];\n",
              "      let downloaded = 0;\n",
              "\n",
              "      const channel = await google.colab.kernel.comms.open(id);\n",
              "      // Send a message to notify the kernel that we're ready.\n",
              "      channel.send({})\n",
              "\n",
              "      for await (const message of channel.messages) {\n",
              "        // Send a message to notify the kernel that we're ready.\n",
              "        channel.send({})\n",
              "        if (message.buffers) {\n",
              "          for (const buffer of message.buffers) {\n",
              "            buffers.push(buffer);\n",
              "            downloaded += buffer.byteLength;\n",
              "            progress.value = downloaded;\n",
              "          }\n",
              "        }\n",
              "      }\n",
              "      const blob = new Blob(buffers, {type: 'application/binary'});\n",
              "      const a = document.createElement('a');\n",
              "      a.href = window.URL.createObjectURL(blob);\n",
              "      a.download = filename;\n",
              "      div.appendChild(a);\n",
              "      a.click();\n",
              "      div.remove();\n",
              "    }\n",
              "  "
            ]
          },
          "metadata": {}
        },
        {
          "output_type": "display_data",
          "data": {
            "text/plain": [
              "<IPython.core.display.Javascript object>"
            ],
            "application/javascript": [
              "download(\"download_47b1a53a-39fe-412c-b3b4-59cc1cb359e1\", \"specific_table.csv\", 372)"
            ]
          },
          "metadata": {}
        },
        {
          "output_type": "stream",
          "name": "stdout",
          "text": [
            "Archivo 'specific_table.csv' descargado automáticamente en Google Colab.\n"
          ]
        }
      ]
    },
    {
      "cell_type": "markdown",
      "source": [
        "🛠 ***¿Qué hace este código?***\n",
        "\n",
        "***Guarda el archivo CSV:***\n",
        "Utilice ***to_csv***  para almacenar el DataFrame llamado ***specific_table*** con un nombre de archivo definido ( specific_table.csv).\n",
        "\n",
        "***Descarga automática en Google Colab:***\n",
        "Si el entorno detecta Google Colab, importa el módulo filesy facilita la descarga directa del archivo.\n",
        "\n",
        "***Enlace de descarga en Jupyter Notebook:***\n",
        "Si el entorno es Jupyter Notebook, muestra un enlace con ***IPython.display.FileLink*** para descargar manualmente el archivo."
      ],
      "metadata": {
        "id": "a0y17qWAjDSm"
      }
    },
    {
      "cell_type": "markdown",
      "source": [
        "🏆 **Ventajas del método pd.read_html**\n",
        "\n",
        "***Eficiencia:*** Extrae todas las tablas en un solo paso, sin necesidad de analizar manualmente el HTML.\n",
        "\n",
        "***Facilidad de uso:*** Seleccionar tablas específicas con matchsimplificar el trabajo.\n",
        "\n",
        "***Flexibilidad:*** Permite manipular tablas como DataFrames directamente.\n",
        "\n",
        "🚀 ¡Este método es ideal para trabajar rápido con datos tabulares en páginas web! 😊"
      ],
      "metadata": {
        "id": "Uijg7gSbiP8L"
      }
    },
    {
      "cell_type": "markdown",
      "source": [
        "**Autor:**\n",
        "\n",
        "<a href=\"https://www.linkedin.com/in/mbaeduleon/\">Ing. David Eduardo León</a> 🌟\n",
        "\n"
      ],
      "metadata": {
        "id": "q2I2dLH9igy9"
      }
    },
    {
      "cell_type": "markdown",
      "source": [
        "**Otros colaboradores**\n",
        "\n",
        "<a href=\"https://www.linkedin.com\"> </a> 🤝\n",
        "\n",
        "**Registro de cambios**\n",
        "\n",
        "| Fecha (AAAA-MM-DD) | Versión | Cambiado por | Descripción del cambio            |\n",
        "| ------------------- | ------- | ------------ | --------------------------------- |\n",
        "|                     |         |              |                                   |\n",
        "|                     |         |              |                                   |"
      ],
      "metadata": {
        "id": "skzFMdrBi4Gn"
      }
    }
  ]
}